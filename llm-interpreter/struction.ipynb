{
 "cells": [
  {
   "cell_type": "code",
   "execution_count": 1,
   "metadata": {},
   "outputs": [],
   "source": [
    "# %pip install pytesseract PyMuPDF\n",
    "# %pip install tabula-py[jpype]\n",
    "# %pip install python-docx"
   ]
  },
  {
   "cell_type": "code",
   "execution_count": null,
   "metadata": {},
   "outputs": [],
   "source": [
    "# instalador do tesseract: https://github.com/UB-Mannheim/tesseract/wiki\n",
    "# baixar por.traineddata https://github.com/tesseract-ocr/tessdata/blob/main/por.traineddata (leitura em português)"
   ]
  },
  {
   "cell_type": "code",
   "execution_count": null,
   "metadata": {},
   "outputs": [],
   "source": [
    "# instalador do tesseract: https://github.com/UB-Mannheim/tesseract/wiki\n",
    "# baixar por.traineddata https://github.com/tesseract-ocr/tessdata/blob/main/por.traineddata (leitura em português)"
   ]
  },
  {
   "cell_type": "code",
   "execution_count": null,
   "metadata": {},
   "outputs": [],
   "source": [
    "# os.environ['TESSDATA_PREFIX'] = r'C:/Program Files/Tesseract-OCR/tessdata'"
   ]
  },
  {
   "cell_type": "code",
   "execution_count": 1,
   "metadata": {},
   "outputs": [],
   "source": [
    "import tabula\n",
    "#import PyPDF2\n",
    "import os\n",
    "import json\n",
    "# import io\n",
    "import re\n",
    "import tabula\n",
    "import os\n",
    "import json\n",
    "import fitz  # PyMuPDF\n",
    "import pytesseract\n",
    "import pandas as pd\n",
    "import numpy as np\n",
    "import pandas as pd\n",
    "import numpy as np\n",
    "from datetime import datetime\n",
    "from dateutil.relativedelta import relativedelta\n",
    "# from openai import OpenAI\n",
    "from openpyxl import load_workbook\n",
    "from unidecode import unidecode\n",
    "from tqdm.notebook import tqdm\n",
    "from PIL import Image\n",
    "from unidecode import unidecode\n",
    "from tqdm.notebook import tqdm\n",
    "from docx import Document\n",
    "from docx.shared import Pt\n",
    "from docx.enum.text import WD_ALIGN_PARAGRAPH\n"
   ]
  },
  {
   "cell_type": "code",
   "execution_count": null,
   "metadata": {},
   "outputs": [],
   "source": [
    "os.environ['JAVA_HOME'] = 'C:/Program Files (x86)/Java/jdk-11.0.22/bin'"
   ]
  },
  {
   "cell_type": "markdown",
   "metadata": {},
   "source": [
    "### TED"
   ]
  },
  {
   "cell_type": "code",
   "execution_count": null,
   "metadata": {},
   "outputs": [],
   "source": [
    "def gera_lista_arquivos(caminho):\n",
    "    arquivos = [arquivo for arquivo in os.listdir(caminho) if os.path.isfile(os.path.join(caminho, arquivo))]\n",
    "\n",
    "    texto_estorno = 'ESTORNO'\n",
    "    texto_ded = 'DED'\n",
    "\n",
    "    sublista_e = [arquivo for arquivo in arquivos if texto_estorno in arquivo]\n",
    "    sublista_d = [arquivo for arquivo in arquivos if texto_ded in arquivo]\n",
    "\n",
    "    return sublista_e, sublista_d"
   ]
  },
  {
   "cell_type": "code",
   "execution_count": null,
   "metadata": {},
   "outputs": [],
   "source": [
    "def captura_ted(caminho):\n",
    "    dados = []\n",
    "    tabula_dfs = tabula.read_pdf(caminho, pages='all', area=[1,1,3000,3000], multiple_tables='False')\n",
    "    for i in range(0,len(tabula_dfs)):\n",
    "        date_pattern = r'\\d{2}/\\d{2}/\\d{4}'\n",
    "        date_match = re.search(date_pattern, tabula_dfs[0]['Transferência Eletrônica Disponível - TED \"IF-CLI\"'].iloc[16])\n",
    "        valor = tabula_dfs[i]['Unnamed: 3'].iloc[11]\n",
    "        hora = tabula_dfs[i]['Unnamed: 0'].iloc[11]\n",
    "\n",
    "        dicionario = {\n",
    "            'data': date_match.group() if date_match else None,\n",
    "            'hora': hora,\n",
    "            'valor': valor,\n",
    "            'pagina': i+1\n",
    "        }\n",
    "\n",
    "        dados.append(dicionario)\n",
    "\n",
    "    df = pd.DataFrame(dados)\n",
    "    return df"
   ]
  },
  {
   "cell_type": "markdown",
   "metadata": {},
   "source": [
    "### DED"
   ]
  },
  {
   "cell_type": "code",
   "execution_count": null,
   "metadata": {},
   "outputs": [],
   "source": [
    "def captura_ded(caminho):    \n",
    "    tabula_dfs = tabula.read_pdf(caminho, pages='all', area=[225,1,3000,3000], multiple_tables='True')\n",
    "\n",
    "    tabela_concat = pd.concat(tabula_dfs, ignore_index=True)[[\"DT. VCTO.\",\"PARC.\",\"VLR. FINAL\",\"TOT. DIVIDA\",\"VLR.LNC./PG.\",\"HIST. FINANC.\"]].dropna(subset=[\"DT. VCTO.\"])\n",
    "    tabela_concat = tabela_concat[tabela_concat[\"DT. VCTO.\"] != \"Continua ...\"]\n",
    "    tabela_concat[['codigo', 'descricao']] = tabela_concat['HIST. FINANC.'].str.split(' - ', expand=True)\n",
    "    tabela_concat['valor'] = tabela_concat['VLR.LNC./PG.'].str.extract(r'(\\d{1,3}(?:\\.\\d{3})*,\\d{2})')\n",
    "    df = tabela_concat[tabela_concat['codigo'] == '101'][['DT. VCTO.','PARC.','valor']].reset_index(drop=True)\n",
    "\n",
    "    return df"
   ]
  },
  {
   "cell_type": "code",
   "execution_count": null,
   "metadata": {},
   "outputs": [],
   "source": [
    "def varios_deds(sublista_d,caminho):\n",
    "    lista_df_deds = []\n",
    "\n",
    "    for i in range(len(sublista_d)):\n",
    "        df_intermediario = captura_ded(f'{caminho}/{sublista_d[i]}')\n",
    "\n",
    "        lista_df_deds.append(df_intermediario)\n",
    "\n",
    "    for df in lista_df_deds:\n",
    "        df['data_ref'] = pd.to_datetime(df['DT. VCTO.'], dayfirst=True)\n",
    "        df['data_ref'] = df['data_ref'].apply(lambda x: x.replace(day = 1) + pd.offsets.MonthEnd(1))\n",
    "        df['valor'] = df['valor'].str.replace('.', '').str.replace(',', '.').astype(float)\n",
    "        df.set_index('data_ref', inplace=True)\n",
    "\n",
    "    if len(lista_df_deds) == 0:\n",
    "        df_agrupado_soma = df\n",
    "    if len(lista_df_deds) >= 0:\n",
    "        df_concatenado = pd.concat(lista_df_deds)\n",
    "\n",
    "        df_agrupado_soma = df_concatenado.groupby(df_concatenado.index).agg({'valor': 'sum'})\n",
    "        df_agrupado_soma.reset_index(inplace=True)\n",
    "    \n",
    "    return df_agrupado_soma"
   ]
  },
  {
   "cell_type": "markdown",
   "metadata": {},
   "source": [
    "### Input Excel"
   ]
  },
  {
   "cell_type": "code",
   "execution_count": null,
   "metadata": {},
   "outputs": [],
   "source": [
    "erros = []\n",
    "def gerar_excel(folder_especifico,dic_parametros):\n",
    "    sublista_estorno, sublista_ded = gera_lista_arquivos(folder_especifico)\n",
    "\n",
    "    if len(sublista_estorno) > 0:\n",
    "        try:\n",
    "            df_ted = captura_ted(f'{folder_especifico}/{sublista_estorno[0]}')\n",
    "        except:\n",
    "            dic = {\n",
    "                'caminho': folder_especifico,\n",
    "                'lista': sublista_estorno\n",
    "            }\n",
    "            erros.append(dic)\n",
    "\n",
    "    if len(sublista_ded) > 0:\n",
    "        try:\n",
    "            df_ded = varios_deds(sublista_ded,folder_especifico)\n",
    "        except:\n",
    "            dic = {\n",
    "                'caminho': folder_especifico,\n",
    "                'lista': sublista_ded\n",
    "            }\n",
    "            erros.append(dic)\n",
    "\n",
    "    ##### Excel\n",
    "    wb = load_workbook('base.xlsx')\n",
    "\n",
    "    sheet_sumario = wb['Sumário']\n",
    "    dic_parametros = dic_parametros.iloc[0]\n",
    "    processo = dic_parametros['n_processo']\n",
    "\n",
    "    sheet_sumario['H1'].value = dic_parametros['base_atualizacao']\n",
    "    sheet_sumario['C2'].value = dic_parametros['n_processo']\n",
    "    sheet_sumario['C3'].value = dic_parametros['autor']\n",
    "    sheet_sumario['C4'].value = dic_parametros['data_distribuicao']\n",
    "    sheet_sumario['C5'].value = dic_parametros['citacao']\n",
    "    sheet_sumario['C6'].value = dic_parametros['valor_causa']\n",
    "\n",
    "    sheet_sumario['C8'].value = dic_parametros['dano_moral']\n",
    "    sheet_sumario['D8'].value = dic_parametros['dano_moral_data_cor']\n",
    "    sheet_sumario['E8'].value = dic_parametros['dano_moral_data_jur']\n",
    "    sheet_sumario['G8'].value = dic_parametros['dano_moral_indice']\n",
    "\n",
    "    sheet_sumario['C9'].value = dic_parametros['honorario_sucumbencial']\n",
    "    sheet_sumario['D9'].value = dic_parametros['honorario_sucumbencial_data_cor']\n",
    "    sheet_sumario['E9'].value = dic_parametros['honorario_sucumbencial_data_jur']\n",
    "    sheet_sumario['G9'].value = dic_parametros['honorario_sucumbencial_indice']\n",
    "\n",
    "    sheet_sumario['C10'].value = dic_parametros['outras_multas']\n",
    "    sheet_sumario['D10'].value = dic_parametros['outras_multas_data_cor']\n",
    "    sheet_sumario['E10'].value = dic_parametros['outras_multas_data_jur']\n",
    "    sheet_sumario['G10'].value = dic_parametros['outras_multas_indice']\n",
    "\n",
    "    sheet_sumario['C11'].value = dic_parametros['multa_475']\n",
    "    sheet_sumario['D11'].value = dic_parametros['multa_475_data_cor']\n",
    "    sheet_sumario['E11'].value = dic_parametros['multa_475_data_jur']\n",
    "    sheet_sumario['G11'].value = dic_parametros['multa_475_indice']\n",
    "\n",
    "    sheet_sumario['C12'].value = dic_parametros['multa_ma_fe']\n",
    "    sheet_sumario['D12'].value = dic_parametros['multa_ma_fe_data_cor']\n",
    "    sheet_sumario['E12'].value = dic_parametros['multa_ma_fe_data_jur']\n",
    "    sheet_sumario['G12'].value = dic_parametros['multa_ma_fe_indice']\n",
    "\n",
    "    sheet_sumario['C13'].value = dic_parametros['outros']\n",
    "    sheet_sumario['D13'].value = dic_parametros['outros_data_cor']\n",
    "    sheet_sumario['E13'].value = dic_parametros['outros_data_jur']\n",
    "    sheet_sumario['G13'].value = dic_parametros['outros_indice']\n",
    "\n",
    "    sheet_sumario['C14'].value = dic_parametros['empr_n_devol']\n",
    "    sheet_sumario['D14'].value = dic_parametros['empr_n_devol_data_cor']\n",
    "    sheet_sumario['E14'].value = dic_parametros['empr_n_devol_data_jur']\n",
    "    sheet_sumario['G14'].value = dic_parametros['empr_n_devol_indice']\n",
    "\n",
    "    sheet_sumario['C17'].value = dic_parametros['data_dep_autor']\n",
    "    sheet_sumario['C18'].value = dic_parametros['valor_dep_autor']\n",
    "    sheet_sumario['C21'].value = dic_parametros['data_dep_reu']\n",
    "    sheet_sumario['C22'].value = dic_parametros['valor_dep_reu']\n",
    "\n",
    "\n",
    "    ### PARCELAS ###\n",
    "    sheet_parcelas = wb['Parcelas']\n",
    "\n",
    "    sheet_parcelas['B2'].value = dic_parametros['p_citacao']\n",
    "    sheet_parcelas['B4'].value = dic_parametros['p_indice']\n",
    "    sheet_parcelas['B5'].value = dic_parametros['p_dobro']\n",
    "\n",
    "    if 'df_ded' in locals() or 'df_ded' in globals():\n",
    "    ###### DED's em formato texto, preenchimento correto.\n",
    "        sheet_parcelas['B6'].value = len(df_ded)\n",
    "        \n",
    "        for i in range(len(df_ded)):\n",
    "            sheet_parcelas[f'L{i+10}'].value = df_ded['data_ref'][i]\n",
    "            sheet_parcelas[f'B{i+10}'].value = i+1\n",
    "            sheet_parcelas[f'C{i+10}'].value = df_ded['valor'][i]\n",
    "    \n",
    "    elif dic_parametros['in_ded_texto'] == 'X':\n",
    "    ###### DED's em formato de imagem, usa os TED's com base na data preenchida.\n",
    "        data_inicial = dic_parametros['data_inicio_ded']\n",
    "\n",
    "        sheet_parcelas['B6'].value = len(df_ted)\n",
    "        for i in range(len(df_ted)):\n",
    "            if i == 0:\n",
    "                ultimo_dia_mes = data_inicial + relativedelta(day=31)\n",
    "                sheet_parcelas[f'L{i+10}'].value = ultimo_dia_mes\n",
    "            else:\n",
    "                data_futuro = data_inicial + relativedelta(months=i, day=31)\n",
    "                sheet_parcelas[f'L{i+10}'].value = data_futuro\n",
    "            sheet_parcelas[f'B{i+10}'].value = i+1\n",
    "            sheet_parcelas[f'C{i+10}'].value = df_ted['valor'][i]\n",
    "\n",
    "    ## ESTORNO ###\n",
    "    sheet_estorno = wb['Estorno']\n",
    "\n",
    "    sheet_estorno['B2'].value = dic_parametros['e_citacao']\n",
    "    sheet_estorno['B4'].value = dic_parametros['e_indice']\n",
    "    sheet_estorno['B5'].value = dic_parametros['e_dobro']\n",
    "\n",
    "    if 'df_ted' in locals() or 'df_ted' in globals():\n",
    "        sheet_estorno['B2'].value = df_ted['data'][0]\n",
    "        sheet_estorno['B6'].value = len(df_ted)\n",
    "\n",
    "        for i in range(len(df_ted)):\n",
    "            sheet_estorno[f'L{i+10}'].value = df_ted['data'][i]\n",
    "            sheet_estorno[f'B{i+10}'].value = i+1\n",
    "            sheet_estorno[f'C{i+10}'].value = df_ted['valor'][i]\n",
    "\n",
    "    wb.save(f'{folder_especifico}/calculo_{processo}.xlsx')"
   ]
  },
  {
   "cell_type": "code",
   "execution_count": null,
   "metadata": {},
   "outputs": [],
   "source": [
    "dados_processos = pd.read_excel('dados_processos.xlsx')"
   ]
  },
  {
   "cell_type": "code",
   "execution_count": null,
   "metadata": {},
   "outputs": [],
   "source": [
    "folder = 'C:/Users/victor.serra/Desktop/python/automacao/projeto_derroted/processos'\n",
    "\n",
    "pastas = [nome for nome in os.listdir(folder) if os.path.isdir(os.path.join(folder, nome))]"
   ]
  },
  {
   "cell_type": "code",
   "execution_count": null,
   "metadata": {},
   "outputs": [],
   "source": [
    "erros = []\n",
    "for i in range(len(pastas)):\n",
    "    pasta_agora = pastas[i]\n",
    "    filtro = dados_processos['pasta'] == pasta_agora\n",
    "    dic_parametros = dados_processos[filtro]\n",
    "    folder_especifico = f'{folder}/{pasta_agora}'\n",
    "\n",
    "    gerar_excel(folder_especifico,dic_parametros)"
   ]
  },
  {
   "cell_type": "code",
   "execution_count": null,
   "metadata": {},
   "outputs": [],
   "source": [
    "pd.DataFrame(erros).to_excel('verificar.xlsx')"
   ]
  },
  {
   "cell_type": "code",
   "execution_count": 16,
   "metadata": {},
   "outputs": [],
   "source": [
    "modelo_laudo = Document('laudo_base.docx')"
   ]
  },
  {
   "cell_type": "code",
   "execution_count": 20,
   "metadata": {},
   "outputs": [],
   "source": [
    "# Informações Básicas\n",
    "modelo_laudo.tables[0].rows[2].cells[1].paragraphs[0].text = 'num_process_auto'\n",
    "modelo_laudo.tables[0].rows[3].cells[1].paragraphs[0].text = 'num_processo'\n",
    "modelo_laudo.tables[0].rows[4].cells[1].paragraphs[0].text = 'nome_autor'\n",
    "modelo_laudo.tables[0].rows[5].cells[1].paragraphs[0].text = 'estrategia'\n",
    "modelo_laudo.tables[0].rows[6].cells[1].paragraphs[0].text = 'adv_monitorado'\n",
    "modelo_laudo.tables[0].rows[7].cells[1].paragraphs[0].text = 'data_distribuicao'\n",
    "modelo_laudo.tables[0].rows[8].cells[1].paragraphs[0].text = 'data_citacao'\n",
    "modelo_laudo.tables[0].rows[9].cells[1].paragraphs[0].text = 'valor_acao'\n",
    "modelo_laudo.tables[0].rows[10].cells[1].paragraphs[0].text = 'revelia'\n",
    "modelo_laudo.tables[0].rows[11].cells[1].paragraphs[0].text = 'modalidade_pgto'\n",
    "\n",
    "# Tipo pgto\n",
    "modelo_laudo.tables[0].rows[12].cells[1].paragraphs[0].text = 'Principal' # negrito\n",
    "modelo_laudo.tables[0].rows[12].cells[1].paragraphs[1].text = f\"Tipo: {'Condenação'}\"\n",
    "\n",
    "# Sentença\n",
    "modelo_laudo.tables[0].rows[14].cells[1].paragraphs[0].text = 'Sim'          # col excel. SIM | NÃO\n",
    "modelo_laudo.tables[0].rows[14].cells[1].paragraphs[1].text = f\"Resultado: {'Parcial Procedente'}\"\n",
    "modelo_laudo.tables[0].rows[14].cells[1].paragraphs[2].text = f\"Data Publicação: {'22/09/2023'}\"\n",
    "# Dispositivo Sentença\n",
    "modelo_laudo.tables[0].rows[16].cells[0].paragraphs[0].text = 'Sentença'\n",
    "\n",
    "# Recurso:\n",
    "modelo_laudo.tables[0].rows[17].cells[1].paragraphs[0].text = 'Sim'          # col excel. SIM | NÃO\n",
    "modelo_laudo.tables[0].rows[17].cells[1].paragraphs[1].text = f\"Parte(s) Ingressante(s): {' Ambos | Autor | Réu '}\"\n",
    "modelo_laudo.tables[0].rows[17].cells[1].paragraphs[2].text = f\"Resultado: {'Parcial Procedente'}\"\n",
    "modelo_laudo.tables[0].rows[17].cells[1].paragraphs[3].text = f\"Data Publicação: {'22/09/2023'}\"\n",
    "# Dispositivo Recurso\n",
    "modelo_laudo.tables[0].rows[19].cells[0].paragraphs[0].text = 'Dispositivo_recurso'\n",
    "    # {'recurso': \"Sim | Não \", Paragrafo, ,Paragrafo, \"Resultado\": {lista_res}, Paragrafo, 'data_publicacao': {data_publicacao}}\n",
    "\n"
   ]
  },
  {
   "cell_type": "code",
   "execution_count": 22,
   "metadata": {},
   "outputs": [],
   "source": [
    "linhas_formatacao_base = [2,3,4,5,6,7,8,9,10,11,12,14,16,17,19]\n",
    "linhas_negrito = [[12,0],[14,0],[17,0]]\n",
    "\n",
    "for i in linhas_formatacao_base:\n",
    "    base = modelo_laudo.tables[0].rows[i].cells[1]\n",
    "    for y in range(len(base.paragraphs)):\n",
    "        run = base.paragraphs[y].runs[0]\n",
    "        run.font.name = 'Montserrat'\n",
    "        run.font.size = Pt(9)\n",
    "\n",
    "for linha in linhas_negrito:\n",
    "    base = modelo_laudo.tables[0].rows[int(linha[0])].cells[1].paragraphs[int(linha[1])]\n",
    "    base.runs[0].font.bold = True"
   ]
  },
  {
   "cell_type": "code",
   "execution_count": null,
   "metadata": {},
   "outputs": [],
   "source": [
    "# modelo_laudo.tables[0].rows[19].cells[0].text - dispositivo_recurso\n",
    "# modelo_laudo.tables[0].rows[20].cells[1].text - OBF\n",
    "    # {'forma': \"{Sim | Nao}\", Paragrafo, 'Status': '{lista_status}', Paragrafo, \"Descrever\": ...}\n",
    "# modelo_laudo.tables[0].rows[22].cells[1].text - dano_material\n",
    "    # {'forma': \"{sim | nao}\", Paragrafo, valor, valor_atualizado, data_correcao, data_juros, forma: {\"lista\"}}\n",
    "# modelo_laudo.tables[0].rows[23].cells[1].text - dano_moral\n",
    "    # {'forma': \"{sim | nao}\", Paragrafo, valor, valor_atualizado, data_correcao, data_juros, forma: {\"lista\"}}\n",
    "# modelo_laudo.tables[0].rows[24].cells[1].text - hon_sucumbenciais\n",
    "    # {forma: \"{sim | nao}\", valor}\n",
    "# modelo_laudo.tables[0].rows[25].cells[1].text - multa_outros\n",
    "    # {forma: \"{sim | nao}\", valor}\n",
    "# modelo_laudo.tables[0].rows[26].cells[1].text - multa_475_J\n",
    "    # {forma: \"{sim | nao}\", valor}\n",
    "# modelo_laudo.tables[0].rows[27].cells[1].text - multa_lit_ma_fe\n",
    "    # {forma: \"{sim | nao}\", valor}\n",
    "# modelo_laudo.tables[0].rows[28].cells[1].text - multa_obf\n",
    "    # {forma: \"{sim | nao}\", valor}\n",
    "# modelo_laudo.tables[0].rows[29].cells[1].text - outros_valores\n",
    "    # {forma: \"{sim | nao}\", motivo, valor}\n",
    "# modelo_laudo.tables[0].rows[31].cells[0].text - calculo\n",
    "    # imagem\n",
    "# modelo_laudo.tables[0].rows[32].cells[1].text - valor_total\n",
    "    # {forma: valor}\n",
    "# modelo_laudo.tables[0].rows[33].cells[1].text - estorno_parcelas\n",
    "    # {forma: \"{sim | nao}\", valor}\n",
    "# modelo_laudo.tables[0].rows[34].cells[1].text - valor_compensacao\n",
    "    # {forma: \"{sim | nao}\", valor}\n",
    "# modelo_laudo.tables[0].rows[35].cells[1].text - total_a_pagar\n",
    "    # {valor}\n",
    "# modelo_laudo.tables[0].rows[36].cells[1].text - tota_a_receber\n",
    "    # valor\n"
   ]
  },
  {
   "cell_type": "code",
   "execution_count": 23,
   "metadata": {},
   "outputs": [],
   "source": [
    "modelo_laudo.save('laudo_teste.docx')"
   ]
  },
  {
   "cell_type": "code",
   "execution_count": null,
   "metadata": {},
   "outputs": [],
   "source": []
  },
  {
   "cell_type": "code",
   "execution_count": null,
   "metadata": {},
   "outputs": [],
   "source": []
  },
  {
   "cell_type": "code",
   "execution_count": null,
   "metadata": {},
   "outputs": [],
   "source": []
  },
  {
   "cell_type": "code",
   "execution_count": null,
   "metadata": {},
   "outputs": [],
   "source": []
  },
  {
   "cell_type": "code",
   "execution_count": null,
   "metadata": {},
   "outputs": [],
   "source": []
  },
  {
   "cell_type": "code",
   "execution_count": null,
   "metadata": {},
   "outputs": [],
   "source": []
  },
  {
   "cell_type": "code",
   "execution_count": null,
   "metadata": {},
   "outputs": [],
   "source": []
  },
  {
   "cell_type": "code",
   "execution_count": null,
   "metadata": {},
   "outputs": [],
   "source": []
  },
  {
   "cell_type": "code",
   "execution_count": null,
   "metadata": {},
   "outputs": [],
   "source": [
    "# pytesseract.pytesseract.tesseract_cmd = r'C:/Program Files/Tesseract-OCR/tesseract.exe'  # Caminho para o executável do tesseract\n",
    "\n",
    "# parse_pdf = []\n",
    "\n",
    "# Abra o arquivo PDF com o PyMuPDF\n",
    "# pdf_file = f'{folder_especifico}/{sublista_ded[0]}'\n",
    "# pdf = fitz.open(pdf_file)\n",
    "\n",
    "# Itere pelas páginas e aplique OCR\n",
    "# for page_num in tqdm(range(len(pdf)), desc='Parsing pages'):\n",
    "#     Obtenha a página\n",
    "#     page = pdf[page_num]\n",
    "\n",
    "#     Renderize a página em uma imagem\n",
    "#     pix = page.get_pixmap()\n",
    "#     img = Image.frombytes(\"RGB\", [pix.width, pix.height], pix.samples)\n",
    "\n",
    "#     Extraia o texto da imagem usando OCR\n",
    "#     content = pytesseract.image_to_string(img, lang='por')  # Especifique o idioma com o parâmetro lang, se necessário\n",
    "\n",
    "#     dicionario = {\n",
    "#         'page_num': page_num + 1,\n",
    "#         'conteudo': content\n",
    "#     }\n",
    "\n",
    "#     Faça o que você precisar com o texto\n",
    "#     parse_pdf.append(content)\n",
    "\n",
    "# pdf.close()"
   ]
  },
  {
   "cell_type": "code",
   "execution_count": null,
   "metadata": {},
   "outputs": [],
   "source": []
  },
  {
   "cell_type": "code",
   "execution_count": null,
   "metadata": {},
   "outputs": [],
   "source": []
  },
  {
   "cell_type": "code",
   "execution_count": null,
   "metadata": {},
   "outputs": [],
   "source": []
  },
  {
   "cell_type": "code",
   "execution_count": null,
   "metadata": {},
   "outputs": [],
   "source": []
  }
 ],
 "metadata": {
  "kernelspec": {
   "display_name": "Python 3",
   "language": "python",
   "name": "python3"
  },
  "language_info": {
   "codemirror_mode": {
    "name": "ipython",
    "version": 3
   },
   "file_extension": ".py",
   "mimetype": "text/x-python",
   "name": "python",
   "nbconvert_exporter": "python",
   "pygments_lexer": "ipython3",
   "version": "3.11.4"
  }
 },
 "nbformat": 4,
 "nbformat_minor": 2
}
