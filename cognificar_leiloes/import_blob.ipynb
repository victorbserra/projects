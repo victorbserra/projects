{
 "cells": [
  {
   "cell_type": "code",
   "execution_count": 4,
   "metadata": {},
   "outputs": [],
   "source": [
    "import pandas as pd\n",
    "from google.cloud import bigquery\n",
    "from google.oauth2 import service_account\n",
    "from datetime import datetime"
   ]
  },
  {
   "cell_type": "code",
   "execution_count": 5,
   "metadata": {},
   "outputs": [
    {
     "data": {
      "text/html": [
       "<div>\n",
       "<style scoped>\n",
       "    .dataframe tbody tr th:only-of-type {\n",
       "        vertical-align: middle;\n",
       "    }\n",
       "\n",
       "    .dataframe tbody tr th {\n",
       "        vertical-align: top;\n",
       "    }\n",
       "\n",
       "    .dataframe thead th {\n",
       "        text-align: right;\n",
       "    }\n",
       "</style>\n",
       "<table border=\"1\" class=\"dataframe\">\n",
       "  <thead>\n",
       "    <tr style=\"text-align: right;\">\n",
       "      <th></th>\n",
       "      <th>Label</th>\n",
       "      <th>Value</th>\n",
       "      <th>cod_veiculo</th>\n",
       "      <th>Modelo</th>\n",
       "      <th>codigoModelo</th>\n",
       "      <th>Ano</th>\n",
       "      <th>codigoAno</th>\n",
       "      <th>data_hora_atualizacao</th>\n",
       "    </tr>\n",
       "  </thead>\n",
       "  <tbody>\n",
       "    <tr>\n",
       "      <th>0</th>\n",
       "      <td>Acura</td>\n",
       "      <td>1</td>\n",
       "      <td>1</td>\n",
       "      <td>Integra GS 1.8</td>\n",
       "      <td>1</td>\n",
       "      <td>1992 Gasolina</td>\n",
       "      <td>1992-1</td>\n",
       "      <td>03/07/2023 11:37:04</td>\n",
       "    </tr>\n",
       "    <tr>\n",
       "      <th>1</th>\n",
       "      <td>Acura</td>\n",
       "      <td>1</td>\n",
       "      <td>1</td>\n",
       "      <td>Integra GS 1.8</td>\n",
       "      <td>1</td>\n",
       "      <td>1991 Gasolina</td>\n",
       "      <td>1991-1</td>\n",
       "      <td>03/07/2023 11:37:04</td>\n",
       "    </tr>\n",
       "    <tr>\n",
       "      <th>2</th>\n",
       "      <td>Acura</td>\n",
       "      <td>1</td>\n",
       "      <td>1</td>\n",
       "      <td>Legend 3.2/3.5</td>\n",
       "      <td>2</td>\n",
       "      <td>1998 Gasolina</td>\n",
       "      <td>1998-1</td>\n",
       "      <td>03/07/2023 11:37:04</td>\n",
       "    </tr>\n",
       "    <tr>\n",
       "      <th>3</th>\n",
       "      <td>Acura</td>\n",
       "      <td>1</td>\n",
       "      <td>1</td>\n",
       "      <td>Legend 3.2/3.5</td>\n",
       "      <td>2</td>\n",
       "      <td>1997 Gasolina</td>\n",
       "      <td>1997-1</td>\n",
       "      <td>03/07/2023 11:37:04</td>\n",
       "    </tr>\n",
       "    <tr>\n",
       "      <th>4</th>\n",
       "      <td>Acura</td>\n",
       "      <td>1</td>\n",
       "      <td>1</td>\n",
       "      <td>Legend 3.2/3.5</td>\n",
       "      <td>2</td>\n",
       "      <td>1996 Gasolina</td>\n",
       "      <td>1996-1</td>\n",
       "      <td>03/07/2023 11:37:04</td>\n",
       "    </tr>\n",
       "    <tr>\n",
       "      <th>...</th>\n",
       "      <td>...</td>\n",
       "      <td>...</td>\n",
       "      <td>...</td>\n",
       "      <td>...</td>\n",
       "      <td>...</td>\n",
       "      <td>...</td>\n",
       "      <td>...</td>\n",
       "      <td>...</td>\n",
       "    </tr>\n",
       "    <tr>\n",
       "      <th>45788</th>\n",
       "      <td>WALKBUS</td>\n",
       "      <td>144</td>\n",
       "      <td>3</td>\n",
       "      <td>Phanter Special Urbano/SPTRANS 2p (die.)</td>\n",
       "      <td>4574</td>\n",
       "      <td>2012</td>\n",
       "      <td>2012-3</td>\n",
       "      <td>03/07/2023 11:37:04</td>\n",
       "    </tr>\n",
       "    <tr>\n",
       "      <th>45789</th>\n",
       "      <td>WALKBUS</td>\n",
       "      <td>144</td>\n",
       "      <td>3</td>\n",
       "      <td>Phanter Special Urbano/SPTRANS 2p (die.)</td>\n",
       "      <td>4574</td>\n",
       "      <td>2011</td>\n",
       "      <td>2011-3</td>\n",
       "      <td>03/07/2023 11:37:04</td>\n",
       "    </tr>\n",
       "    <tr>\n",
       "      <th>45790</th>\n",
       "      <td>WALKBUS</td>\n",
       "      <td>144</td>\n",
       "      <td>3</td>\n",
       "      <td>Phanter Special Urbano/SPTRANS 2p (die.)</td>\n",
       "      <td>4574</td>\n",
       "      <td>2010</td>\n",
       "      <td>2010-3</td>\n",
       "      <td>03/07/2023 11:37:04</td>\n",
       "    </tr>\n",
       "    <tr>\n",
       "      <th>45791</th>\n",
       "      <td>WALKBUS</td>\n",
       "      <td>144</td>\n",
       "      <td>3</td>\n",
       "      <td>Phanter Special Urbano/SPTRANS 2p (die.)</td>\n",
       "      <td>4574</td>\n",
       "      <td>2009</td>\n",
       "      <td>2009-3</td>\n",
       "      <td>03/07/2023 11:37:04</td>\n",
       "    </tr>\n",
       "    <tr>\n",
       "      <th>45792</th>\n",
       "      <td>WALKBUS</td>\n",
       "      <td>144</td>\n",
       "      <td>3</td>\n",
       "      <td>Phanter Special Urbano/SPTRANS 2p (die.)</td>\n",
       "      <td>4574</td>\n",
       "      <td>2008</td>\n",
       "      <td>2008-3</td>\n",
       "      <td>03/07/2023 11:37:04</td>\n",
       "    </tr>\n",
       "  </tbody>\n",
       "</table>\n",
       "<p>45793 rows × 8 columns</p>\n",
       "</div>"
      ],
      "text/plain": [
       "         Label  Value  cod_veiculo                                    Modelo   \n",
       "0        Acura      1            1                            Integra GS 1.8  \\\n",
       "1        Acura      1            1                            Integra GS 1.8   \n",
       "2        Acura      1            1                            Legend 3.2/3.5   \n",
       "3        Acura      1            1                            Legend 3.2/3.5   \n",
       "4        Acura      1            1                            Legend 3.2/3.5   \n",
       "...        ...    ...          ...                                       ...   \n",
       "45788  WALKBUS    144            3  Phanter Special Urbano/SPTRANS 2p (die.)   \n",
       "45789  WALKBUS    144            3  Phanter Special Urbano/SPTRANS 2p (die.)   \n",
       "45790  WALKBUS    144            3  Phanter Special Urbano/SPTRANS 2p (die.)   \n",
       "45791  WALKBUS    144            3  Phanter Special Urbano/SPTRANS 2p (die.)   \n",
       "45792  WALKBUS    144            3  Phanter Special Urbano/SPTRANS 2p (die.)   \n",
       "\n",
       "       codigoModelo            Ano codigoAno data_hora_atualizacao  \n",
       "0                 1  1992 Gasolina    1992-1   03/07/2023 11:37:04  \n",
       "1                 1  1991 Gasolina    1991-1   03/07/2023 11:37:04  \n",
       "2                 2  1998 Gasolina    1998-1   03/07/2023 11:37:04  \n",
       "3                 2  1997 Gasolina    1997-1   03/07/2023 11:37:04  \n",
       "4                 2  1996 Gasolina    1996-1   03/07/2023 11:37:04  \n",
       "...             ...            ...       ...                   ...  \n",
       "45788          4574           2012    2012-3   03/07/2023 11:37:04  \n",
       "45789          4574           2011    2011-3   03/07/2023 11:37:04  \n",
       "45790          4574           2010    2010-3   03/07/2023 11:37:04  \n",
       "45791          4574           2009    2009-3   03/07/2023 11:37:04  \n",
       "45792          4574           2008    2008-3   03/07/2023 11:37:04  \n",
       "\n",
       "[45793 rows x 8 columns]"
      ]
     },
     "execution_count": 5,
     "metadata": {},
     "output_type": "execute_result"
    }
   ],
   "source": [
    "envio_bq = pd.read_csv('conferenciaModelosAnos.csv', sep=',')\n",
    "envio_bq['data_hora_atualizacao'] = datetime.now().strftime(\"%d/%m/%Y %H:%M:%S\")\n",
    "\n",
    "envio_bq"
   ]
  },
  {
   "cell_type": "code",
   "execution_count": 3,
   "metadata": {},
   "outputs": [
    {
     "data": {
      "text/plain": [
       "Label                    object\n",
       "Value                     int64\n",
       "cod_veiculo               int64\n",
       "Modelo                   object\n",
       "codigoModelo              int64\n",
       "Ano                      object\n",
       "codigoAno                object\n",
       "data_hora_atualizacao    object\n",
       "dtype: object"
      ]
     },
     "execution_count": 3,
     "metadata": {},
     "output_type": "execute_result"
    }
   ],
   "source": [
    "envio_bq.dtypes"
   ]
  },
  {
   "cell_type": "code",
   "execution_count": 6,
   "metadata": {},
   "outputs": [],
   "source": [
    "key_path = \"\"\n",
    "credentials = service_account.Credentials.from_service_account_file(key_path)"
   ]
  },
  {
   "cell_type": "code",
   "execution_count": 7,
   "metadata": {},
   "outputs": [],
   "source": [
    "client = bigquery.Client(credentials=credentials, project=credentials.project_id)"
   ]
  },
  {
   "cell_type": "code",
   "execution_count": 8,
   "metadata": {},
   "outputs": [],
   "source": [
    "project_id = 'project'\n",
    "dataset_name = 'dataset'\n",
    "table_name = 'table'\n",
    "\n",
    "schema = [\n",
    "    bigquery.SchemaField(\"Label\", \"STRING\", mode=\"NULLABLE\"),\n",
    "    bigquery.SchemaField(\"Value\", \"INT64\", mode=\"NULLABLE\"),\n",
    "    bigquery.SchemaField(\"cod_veiculo\", \"INT64\", mode=\"NULLABLE\"),\n",
    "    bigquery.SchemaField(\"Modelo\", \"STRING\", mode=\"NULLABLE\"),\n",
    "    bigquery.SchemaField(\"codigoModelo\", \"INT64\", mode=\"NULLABLE\"),\n",
    "    bigquery.SchemaField(\"Ano\", \"STRING\", mode=\"NULLABLE\"),\n",
    "    bigquery.SchemaField(\"codigoAno\", \"STRING\", mode=\"NULLABLE\"),\n",
    "    bigquery.SchemaField(\"data_hora_atualizacao\", \"STRING\", mode=\"NULLABLE\")\n",
    "]"
   ]
  },
  {
   "cell_type": "code",
   "execution_count": 9,
   "metadata": {},
   "outputs": [
    {
     "name": "stdout",
     "output_type": "stream",
     "text": [
      "A tabela já existe. Os novos dados serão adicionados a ela.\n"
     ]
    }
   ],
   "source": [
    "table_ref = client.dataset(dataset_name).table(table_name)\n",
    "try:\n",
    "    client.get_table(table_ref)\n",
    "    print('A tabela já existe. Os novos dados serão adicionados a ela.')\n",
    "except:\n",
    "    print('A tabela não existe. Uma nova tabela será criada.')\n",
    "    table = bigquery.Table(table_ref, schema=schema)\n",
    "    table = client.create_table(table)\n",
    "    print('Tabela criada com sucesso.')"
   ]
  },
  {
   "cell_type": "code",
   "execution_count": 10,
   "metadata": {},
   "outputs": [
    {
     "name": "stdout",
     "output_type": "stream",
     "text": [
      "Starting job ed66988f-6d73-4ac7-b8fe-197255313163\n",
      "Job finished.\n",
      "Loaded 45793 rows.\n"
     ]
    }
   ],
   "source": [
    "job_config = bigquery.LoadJobConfig(schema=schema)\n",
    "job_config.write_disposition = bigquery.WriteDisposition.WRITE_TRUNCATE\n",
    "\n",
    "load_job = client.load_table_from_dataframe(envio_bq, table_ref, job_config=job_config)\n",
    "print(\"Starting job {}\".format(load_job.job_id))\n",
    "\n",
    "load_job.result()\n",
    "print(\"Job finished.\")\n",
    "\n",
    "destination_table = client.get_table(table_ref)\n",
    "print(\"Loaded {} rows.\".format(destination_table.num_rows))"
   ]
  }
 ],
 "metadata": {
  "kernelspec": {
   "display_name": "Python 3",
   "language": "python",
   "name": "python3"
  },
  "language_info": {
   "codemirror_mode": {
    "name": "ipython",
    "version": 3
   },
   "file_extension": ".py",
   "mimetype": "text/x-python",
   "name": "python",
   "nbconvert_exporter": "python",
   "pygments_lexer": "ipython3",
   "version": "3.11.4"
  },
  "orig_nbformat": 4
 },
 "nbformat": 4,
 "nbformat_minor": 2
}
