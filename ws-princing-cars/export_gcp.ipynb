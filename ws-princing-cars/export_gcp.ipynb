{
 "cells": [
  {
   "cell_type": "code",
   "execution_count": 1,
   "metadata": {},
   "outputs": [],
   "source": [
    "import pandas as pd\n",
    "from google.cloud import bigquery\n",
    "from google.oauth2 import service_account\n",
    "from datetime import datetime"
   ]
  },
  {
   "cell_type": "code",
   "execution_count": 2,
   "metadata": {},
   "outputs": [
    {
     "data": {
      "text/plain": [
       "1018717"
      ]
     },
     "execution_count": 2,
     "metadata": {},
     "output_type": "execute_result"
    }
   ],
   "source": [
    "envio_bq = pd.read_csv('conferenciaHistoricoPrecos.csv', sep=',')\n",
    "envio_bq['Valor'] = envio_bq['Valor'].apply(lambda x: float(x.replace('R$', '').replace('.', '').replace(',', '.')))\n",
    "envio_bq['data_hora_atualizacao'] = datetime.now().strftime(\"%d/%m/%Y %H:%M:%S\")\n",
    "\n",
    "num_rows = envio_bq.shape[0]\n",
    "num_rows"
   ]
  },
  {
   "cell_type": "code",
   "execution_count": 3,
   "metadata": {},
   "outputs": [],
   "source": [
    "key_path = \"leiloes-391501-477564df1a41.json\"\n",
    "credentials = service_account.Credentials.from_service_account_file(key_path)"
   ]
  },
  {
   "cell_type": "code",
   "execution_count": 4,
   "metadata": {},
   "outputs": [],
   "source": [
    "client = bigquery.Client(credentials=credentials, project=credentials.project_id)"
   ]
  },
  {
   "cell_type": "code",
   "execution_count": 5,
   "metadata": {},
   "outputs": [
    {
     "data": {
      "text/plain": [
       "Valor                    float64\n",
       "Marca                     object\n",
       "Modelo                    object\n",
       "AnoModelo                  int64\n",
       "Combustivel               object\n",
       "CodigoFipe                object\n",
       "MesReferencia             object\n",
       "Autenticacao              object\n",
       "TipoVeiculo                int64\n",
       "SiglaCombustivel          object\n",
       "DataConsulta              object\n",
       "data_hora_atualizacao     object\n",
       "dtype: object"
      ]
     },
     "execution_count": 5,
     "metadata": {},
     "output_type": "execute_result"
    }
   ],
   "source": [
    "envio_bq.dtypes"
   ]
  },
  {
   "cell_type": "code",
   "execution_count": 7,
   "metadata": {},
   "outputs": [],
   "source": [
    "project_id = 'leiloes-391501'\n",
    "dataset_name = 'origem_scrape_leiloes'\n",
    "table_name = 'raw-historico-preco'\n",
    "\n",
    "schema = [\n",
    "    bigquery.SchemaField(\"Valor\", \"FLOAT\", mode=\"NULLABLE\"),\n",
    "    bigquery.SchemaField(\"Marca\", \"STRING\", mode=\"NULLABLE\"),\n",
    "    bigquery.SchemaField(\"Modelo\", \"STRING\", mode=\"NULLABLE\"),\n",
    "    bigquery.SchemaField(\"AnoModelo\", \"INT64\", mode=\"NULLABLE\"),\n",
    "    bigquery.SchemaField(\"Combustivel\", \"STRING\", mode=\"NULLABLE\"),\n",
    "    bigquery.SchemaField(\"CodigoFipe\", \"STRING\", mode=\"NULLABLE\"),\n",
    "    bigquery.SchemaField(\"MesReferencia\", \"STRING\", mode=\"NULLABLE\"),\n",
    "    bigquery.SchemaField(\"Autenticacao\", \"STRING\", mode=\"NULLABLE\"),\n",
    "    bigquery.SchemaField(\"TipoVeiculo\", \"INT64\", mode=\"NULLABLE\"),\n",
    "    bigquery.SchemaField(\"SiglaCombustivel\", \"STRING\", mode=\"NULLABLE\"),\n",
    "    bigquery.SchemaField(\"DataConsulta\", \"STRING\", mode=\"NULLABLE\"),\n",
    "    bigquery.SchemaField(\"data_hora_atualizacao\", \"STRING\", mode=\"NULLABLE\")\n",
    "]"
   ]
  },
  {
   "cell_type": "code",
   "execution_count": 8,
   "metadata": {},
   "outputs": [
    {
     "name": "stdout",
     "output_type": "stream",
     "text": [
      "A tabela não existe. Uma nova tabela será criada.\n",
      "Tabela criada com sucesso.\n"
     ]
    }
   ],
   "source": [
    "table_ref = client.dataset(dataset_name).table(table_name)\n",
    "try:\n",
    "    client.get_table(table_ref)\n",
    "    print('A tabela já existe. Os novos dados serão adicionados a ela.')\n",
    "except:\n",
    "    print('A tabela não existe. Uma nova tabela será criada.')\n",
    "    table = bigquery.Table(table_ref, schema=schema)\n",
    "    table = client.create_table(table)\n",
    "    print('Tabela criada com sucesso.')"
   ]
  },
  {
   "cell_type": "code",
   "execution_count": 9,
   "metadata": {},
   "outputs": [
    {
     "name": "stdout",
     "output_type": "stream",
     "text": [
      "Starting job c3432dcb-09b7-4114-8ad1-c3665b1cf692\n",
      "Job finished.\n",
      "Loaded 1018717 rows.\n"
     ]
    }
   ],
   "source": [
    "job_config = bigquery.LoadJobConfig(schema=schema)\n",
    "job_config.write_disposition = bigquery.WriteDisposition.WRITE_TRUNCATE\n",
    "\n",
    "load_job = client.load_table_from_dataframe(envio_bq, table_ref, job_config=job_config)\n",
    "print(\"Starting job {}\".format(load_job.job_id))\n",
    "\n",
    "load_job.result()\n",
    "print(\"Job finished.\")\n",
    "\n",
    "destination_table = client.get_table(table_ref)\n",
    "print(\"Loaded {} rows.\".format(destination_table.num_rows))"
   ]
  },
  {
   "cell_type": "code",
   "execution_count": 9,
   "metadata": {},
   "outputs": [],
   "source": [
    "query = 'SELECT * FROM `leiloes-391501.origem_scrape_leiloes.raw-fipe-preco-corrente`'\n",
    "\n",
    "dados_conferencia = client.query(query)\n",
    "dados_conferencia = dados_conferencia.result().to_dataframe()"
   ]
  },
  {
   "cell_type": "code",
   "execution_count": 10,
   "metadata": {},
   "outputs": [],
   "source": [
    "dados_conferencia = dados_conferencia.drop(columns=['data_hora_atualizacao'])"
   ]
  },
  {
   "cell_type": "code",
   "execution_count": 11,
   "metadata": {},
   "outputs": [],
   "source": [
    "dados_conferencia.to_csv('conferenciaModelosAnosPreco.csv', index=False)"
   ]
  },
  {
   "cell_type": "code",
   "execution_count": null,
   "metadata": {},
   "outputs": [],
   "source": []
  },
  {
   "cell_type": "code",
   "execution_count": 2,
   "metadata": {},
   "outputs": [],
   "source": [
    "import pandas as pd\n",
    "from google.cloud import bigquery\n",
    "from google.oauth2 import service_account\n",
    "from datetime import datetime\n",
    "\n",
    "key_path = \"leiloes-391501-477564df1a41.json\"\n",
    "credentials = service_account.Credentials.from_service_account_file(key_path)\n",
    "client = bigquery.Client(credentials=credentials, project=credentials.project_id)"
   ]
  },
  {
   "cell_type": "code",
   "execution_count": 3,
   "metadata": {},
   "outputs": [
    {
     "name": "stderr",
     "output_type": "stream",
     "text": [
      "C:\\Users\\victo\\AppData\\Local\\Temp\\ipykernel_2540\\2186243507.py:1: DtypeWarning: Columns (5) have mixed types. Specify dtype option on import or set low_memory=False.\n",
      "  df_consulta_total = pd.read_csv('consulta_total.csv')\n"
     ]
    }
   ],
   "source": [
    "df_consulta_total = pd.read_csv('consulta_total.csv')"
   ]
  },
  {
   "cell_type": "code",
   "execution_count": 7,
   "metadata": {},
   "outputs": [
    {
     "data": {
      "text/plain": [
       "Marca                    object\n",
       "cod_marca                object\n",
       "cod_veiculo              object\n",
       "Modelo                   object\n",
       "codigoModelo             object\n",
       "Ano                      object\n",
       "codigoAno                object\n",
       "data_hora_atualizacao    object\n",
       "Codigo                   object\n",
       "dtype: object"
      ]
     },
     "execution_count": 7,
     "metadata": {},
     "output_type": "execute_result"
    }
   ],
   "source": [
    "df_consulta_total = df_consulta_total.astype(str)\n",
    "df_consulta_total.dtypes"
   ]
  },
  {
   "cell_type": "code",
   "execution_count": 8,
   "metadata": {},
   "outputs": [
    {
     "name": "stdout",
     "output_type": "stream",
     "text": [
      "A tabela já existe. Os novos dados serão adicionados a ela.\n"
     ]
    }
   ],
   "source": [
    "project_id = 'leiloes-391501'\n",
    "dataset_name = 'origem_scrape_leiloes'\n",
    "table_name = 'parse-dividido'\n",
    "\n",
    "schema = [\n",
    "    bigquery.SchemaField(\"Marca\", \"STRING\", mode=\"NULLABLE\"),\n",
    "    bigquery.SchemaField(\"cod_marca\", \"STRING\", mode=\"NULLABLE\"),\n",
    "    bigquery.SchemaField(\"cod_veiculo\", \"STRING\", mode=\"NULLABLE\"),\n",
    "    bigquery.SchemaField(\"Modelo\", \"STRING\", mode=\"NULLABLE\"),\n",
    "    bigquery.SchemaField(\"codigoModelo\", \"STRING\", mode=\"NULLABLE\"),\n",
    "    bigquery.SchemaField(\"Ano\", \"STRING\", mode=\"NULLABLE\"),\n",
    "    bigquery.SchemaField(\"codigoAno\", \"STRING\", mode=\"NULLABLE\"),\n",
    "    bigquery.SchemaField(\"data_hora_atualizacao\", \"STRING\", mode=\"NULLABLE\"),\n",
    "    bigquery.SchemaField(\"Codigo\", \"STRING\", mode=\"NULLABLE\"),\n",
    "]\n",
    "\n",
    "\n",
    "table_ref = client.dataset(dataset_name).table(table_name)\n",
    "try:\n",
    "    client.get_table(table_ref)\n",
    "    print('A tabela já existe. Os novos dados serão adicionados a ela.')\n",
    "except:\n",
    "    print('A tabela não existe. Uma nova tabela será criada.')\n",
    "    table = bigquery.Table(table_ref, schema=schema)\n",
    "    table = client.create_table(table)\n",
    "    print('Tabela criada com sucesso.')"
   ]
  },
  {
   "cell_type": "code",
   "execution_count": 9,
   "metadata": {},
   "outputs": [
    {
     "name": "stdout",
     "output_type": "stream",
     "text": [
      "Starting job a1ae193e-6851-40fd-b468-88e24d4902f5\n",
      "Job finished.\n",
      "Loaded 8190931 rows.\n"
     ]
    }
   ],
   "source": [
    "job_config = bigquery.LoadJobConfig(schema=schema)\n",
    "job_config.write_disposition = bigquery.WriteDisposition.WRITE_TRUNCATE\n",
    "\n",
    "load_job = client.load_table_from_dataframe(df_consulta_total, table_ref, job_config=job_config)\n",
    "print(\"Starting job {}\".format(load_job.job_id))\n",
    "\n",
    "load_job.result()\n",
    "print(\"Job finished.\")\n",
    "\n",
    "destination_table = client.get_table(table_ref)\n",
    "print(\"Loaded {} rows.\".format(destination_table.num_rows))"
   ]
  }
 ],
 "metadata": {
  "kernelspec": {
   "display_name": "Python 3",
   "language": "python",
   "name": "python3"
  },
  "language_info": {
   "codemirror_mode": {
    "name": "ipython",
    "version": 3
   },
   "file_extension": ".py",
   "mimetype": "text/x-python",
   "name": "python",
   "nbconvert_exporter": "python",
   "pygments_lexer": "ipython3",
   "version": "3.11.4"
  },
  "orig_nbformat": 4
 },
 "nbformat": 4,
 "nbformat_minor": 2
}
