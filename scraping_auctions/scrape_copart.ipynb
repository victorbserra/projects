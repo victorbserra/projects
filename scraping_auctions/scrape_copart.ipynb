{
 "cells": [
  {
   "cell_type": "code",
   "execution_count": 48,
   "metadata": {},
   "outputs": [],
   "source": [
    "import pandas as pd\n",
    "import time as time\n",
    "import random\n",
    "from datetime import datetime\n",
    "from bs4 import BeautifulSoup\n",
    "from web_scraper import WebScraper\n",
    "from vpn import VPNChanger\n",
    "from selenium.webdriver.support.ui import WebDriverWait\n",
    "from selenium.webdriver.support import expected_conditions as EC\n",
    "from selenium.webdriver.common.by import By\n",
    "from urllib.parse import urlparse, urljoin,parse_qs\n",
    "from config import user_agents, path, new_chromedriver_path\n",
    "from itertools import islice"
   ]
  },
  {
   "cell_type": "code",
   "execution_count": 2,
   "metadata": {},
   "outputs": [],
   "source": [
    "scraper = WebScraper(new_chromedriver_path, user_agents, path)\n",
    "vpn_changer = VPNChanger()\n",
    "vpn_files = vpn_changer.get_vpn_files()"
   ]
  },
  {
   "cell_type": "code",
   "execution_count": 3,
   "metadata": {},
   "outputs": [],
   "source": [
    "scraper.driver = scraper.header_configuration(headless=False)   "
   ]
  },
  {
   "cell_type": "code",
   "execution_count": 6,
   "metadata": {},
   "outputs": [],
   "source": [
    "url_analisar = 'https://www.copart.com.br/salesListResult/'"
   ]
  },
  {
   "cell_type": "code",
   "execution_count": 7,
   "metadata": {},
   "outputs": [],
   "source": [
    "scraper.driver.get(url_analisar)"
   ]
  },
  {
   "cell_type": "code",
   "execution_count": 11,
   "metadata": {},
   "outputs": [],
   "source": [
    "soup = BeautifulSoup(scraper.driver.page_source, 'html.parser')\n",
    "tabela = soup.find('table', {'id': 'clientSideDataTable'})\n",
    "linhas = tabela.find_all('tr')"
   ]
  },
  {
   "cell_type": "code",
   "execution_count": 49,
   "metadata": {},
   "outputs": [
    {
     "data": {
      "text/html": [
       "<div>\n",
       "<style scoped>\n",
       "    .dataframe tbody tr th:only-of-type {\n",
       "        vertical-align: middle;\n",
       "    }\n",
       "\n",
       "    .dataframe tbody tr th {\n",
       "        vertical-align: top;\n",
       "    }\n",
       "\n",
       "    .dataframe thead th {\n",
       "        text-align: right;\n",
       "    }\n",
       "</style>\n",
       "<table border=\"1\" class=\"dataframe\">\n",
       "  <thead>\n",
       "    <tr style=\"text-align: right;\">\n",
       "      <th></th>\n",
       "      <th>titulo</th>\n",
       "      <th>data_leilao</th>\n",
       "      <th>link_leilao</th>\n",
       "      <th>id_leilao</th>\n",
       "      <th>leiloeiro</th>\n",
       "    </tr>\n",
       "  </thead>\n",
       "  <tbody>\n",
       "    <tr>\n",
       "      <th>0</th>\n",
       "      <td>Curitiba - PR</td>\n",
       "      <td>\\n04.07.2023\\n</td>\n",
       "      <td>./saleListResult/7624/2023-07-04?location=Curi...</td>\n",
       "      <td>7624</td>\n",
       "      <td>None</td>\n",
       "    </tr>\n",
       "    <tr>\n",
       "      <th>1</th>\n",
       "      <td>Leilão Pátio Porto Seguro - SP</td>\n",
       "      <td>\\n04.07.2023\\n</td>\n",
       "      <td>./saleListResult/7623/2023-07-04?location=Leil...</td>\n",
       "      <td>7623</td>\n",
       "      <td>None</td>\n",
       "    </tr>\n",
       "    <tr>\n",
       "      <th>2</th>\n",
       "      <td>Goiânia - GO</td>\n",
       "      <td>\\n05.07.2023\\n</td>\n",
       "      <td>./saleListResult/7626/2023-07-05?location=Goiâ...</td>\n",
       "      <td>7626</td>\n",
       "      <td>None</td>\n",
       "    </tr>\n",
       "    <tr>\n",
       "      <th>3</th>\n",
       "      <td>Fortaleza - CE</td>\n",
       "      <td>\\n06.07.2023\\n</td>\n",
       "      <td>./saleListResult/7629/2023-07-06?location=Fort...</td>\n",
       "      <td>7629</td>\n",
       "      <td>None</td>\n",
       "    </tr>\n",
       "    <tr>\n",
       "      <th>4</th>\n",
       "      <td>Itaquaquecetuba - SP</td>\n",
       "      <td>\\n06.07.2023\\n</td>\n",
       "      <td>./saleListResult/7628/2023-07-06?location=Itaq...</td>\n",
       "      <td>7628</td>\n",
       "      <td>None</td>\n",
       "    </tr>\n",
       "    <tr>\n",
       "      <th>5</th>\n",
       "      <td>Betim - MG</td>\n",
       "      <td>\\n07.07.2023\\n</td>\n",
       "      <td>./saleListResult/7631/2023-07-07?location=Beti...</td>\n",
       "      <td>7631</td>\n",
       "      <td>None</td>\n",
       "    </tr>\n",
       "    <tr>\n",
       "      <th>6</th>\n",
       "      <td>Osasco - SP</td>\n",
       "      <td>\\n07.07.2023\\n</td>\n",
       "      <td>./saleListResult/7630/2023-07-07?location=Osas...</td>\n",
       "      <td>7630</td>\n",
       "      <td>None</td>\n",
       "    </tr>\n",
       "  </tbody>\n",
       "</table>\n",
       "</div>"
      ],
      "text/plain": [
       "                           titulo     data_leilao   \n",
       "0                   Curitiba - PR  \\n04.07.2023\\n  \\\n",
       "1  Leilão Pátio Porto Seguro - SP  \\n04.07.2023\\n   \n",
       "2                    Goiânia - GO  \\n05.07.2023\\n   \n",
       "3                  Fortaleza - CE  \\n06.07.2023\\n   \n",
       "4            Itaquaquecetuba - SP  \\n06.07.2023\\n   \n",
       "5                      Betim - MG  \\n07.07.2023\\n   \n",
       "6                     Osasco - SP  \\n07.07.2023\\n   \n",
       "\n",
       "                                         link_leilao id_leilao leiloeiro  \n",
       "0  ./saleListResult/7624/2023-07-04?location=Curi...      7624      None  \n",
       "1  ./saleListResult/7623/2023-07-04?location=Leil...      7623      None  \n",
       "2  ./saleListResult/7626/2023-07-05?location=Goiâ...      7626      None  \n",
       "3  ./saleListResult/7629/2023-07-06?location=Fort...      7629      None  \n",
       "4  ./saleListResult/7628/2023-07-06?location=Itaq...      7628      None  \n",
       "5  ./saleListResult/7631/2023-07-07?location=Beti...      7631      None  \n",
       "6  ./saleListResult/7630/2023-07-07?location=Osas...      7630      None  "
      ]
     },
     "execution_count": 49,
     "metadata": {},
     "output_type": "execute_result"
    }
   ],
   "source": [
    "informacoes = []\n",
    "\n",
    "for linha in islice(linhas, 1, None):\n",
    "    titulo = linha.find_all('td')[0].text\n",
    "\n",
    "    data_leilao = linha.find_all('td')[1].text\n",
    "\n",
    "    link_leilao = linha.find_all('td')[1].find('a').get('data-url')\n",
    "    id_leilao = link_leilao.split('/')[2]\n",
    "\n",
    "    parsed_url = urlparse(id_leilao)\n",
    "    query_params = parse_qs(parsed_url.query)\n",
    "    leiloeiro = query_params.get('auctioneer', [None])[0]\n",
    "\n",
    "    informacoes.append({        \n",
    "        'titulo': titulo,\n",
    "        'data_leilao': data_leilao,\n",
    "        'link_leilao': link_leilao,\n",
    "        'id_leilao': id_leilao,\n",
    "        'leiloeiro': leiloeiro\n",
    "    })\n",
    "\n",
    "df_informacoes = pd.DataFrame(informacoes)\n",
    "df_informacoes\n",
    "\n"
   ]
  }
 ],
 "metadata": {
  "kernelspec": {
   "display_name": "Python 3",
   "language": "python",
   "name": "python3"
  },
  "language_info": {
   "codemirror_mode": {
    "name": "ipython",
    "version": 3
   },
   "file_extension": ".py",
   "mimetype": "text/x-python",
   "name": "python",
   "nbconvert_exporter": "python",
   "pygments_lexer": "ipython3",
   "version": "3.11.4"
  },
  "orig_nbformat": 4
 },
 "nbformat": 4,
 "nbformat_minor": 2
}
