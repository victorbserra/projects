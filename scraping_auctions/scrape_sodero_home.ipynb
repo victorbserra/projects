{
 "cells": [
  {
   "cell_type": "code",
   "execution_count": 26,
   "metadata": {},
   "outputs": [],
   "source": [
    "import pandas as pd\n",
    "import time as time\n",
    "import random\n",
    "from datetime import datetime\n",
    "from bs4 import BeautifulSoup\n",
    "from web_scraper import WebScraper\n",
    "from vpn import VPNChanger\n",
    "from selenium.webdriver.support.ui import WebDriverWait\n",
    "from selenium.webdriver.support import expected_conditions as EC\n",
    "from selenium.webdriver.common.by import By\n",
    "from urllib.parse import urlparse, urljoin\n",
    "from config import user_agents, path, new_chromedriver_path"
   ]
  },
  {
   "cell_type": "code",
   "execution_count": 27,
   "metadata": {},
   "outputs": [],
   "source": [
    "scraper = WebScraper(new_chromedriver_path, user_agents, path)\n",
    "# vpn_changer = VPNChanger()\n",
    "# vpn_files = vpn_changer.get_vpn_files()"
   ]
  },
  {
   "cell_type": "code",
   "execution_count": 28,
   "metadata": {},
   "outputs": [],
   "source": [
    "lista_sites = pd.read_csv('C:/Users/victo/AI/Cognificadora/cognificar_leiloes/lista_sites.csv', sep=';')\n",
    "lista_sites = lista_sites['0'].tolist()"
   ]
  },
  {
   "cell_type": "code",
   "execution_count": 29,
   "metadata": {},
   "outputs": [
    {
     "name": "stdout",
     "output_type": "stream",
     "text": [
      "Raspagem na home page finalizada.\n"
     ]
    }
   ],
   "source": [
    "# vpn_changer.connect_vpn(vpn_files[random.randint(0, len(vpn_files) - 1)])\n",
    "driver = scraper.header_configuration(headless=True)\n",
    "driver.delete_all_cookies()\n",
    "driver.get(lista_sites[0])\n",
    "try:\n",
    "  soup = BeautifulSoup(driver.page_source, 'html.parser')\n",
    "  div = soup.find('div', id='atualizacaoHome')\n",
    "  ul = div.find('ul', class_='act-agenda-alterado ag_destaques_leilao-leiloes padrao ativos')\n",
    "  li = ul.find_all('li', class_='leilao_visualizacao-4')\n",
    "\n",
    "  information = []\n",
    "  for i in li:\n",
    "      titulo = i.find('span', class_='leilao_visualizacao-4-tit')\n",
    "      titulo = titulo.text if titulo else None\n",
    "\n",
    "      link = i.find('a', class_='descricao')\n",
    "      link = link.get('href') if link else None\n",
    "\n",
    "      segmento = i.find('p', class_='segmento')\n",
    "      segmento = segmento.text if segmento else None\n",
    "\n",
    "      tipo_categoria = i.find('p', class_='agenda_tipo_categoria') \n",
    "      tipo_categoria = tipo_categoria.text if tipo_categoria else None\n",
    "\n",
    "      situacao = i.find('div', class_='info-adicional') or i.find('div', class_='info-adicionoal')\n",
    "      \n",
    "      information.append(\n",
    "          { 'Titulo': titulo,\n",
    "            'Leilao': link,\n",
    "            'Segmento': segmento,\n",
    "            'Tipo Categoria': tipo_categoria,\n",
    "            'situacao': situacao.text\n",
    "          }\n",
    "      )\n",
    "  df_sodero = pd.DataFrame(information)\n",
    "  df_sodero = df_sodero.replace(r'\\n|\\t', '', regex=True)\n",
    "  df_sodero['data_hora'] = datetime.now().strftime(\"%d/%m/%Y %H:%M:%S\")\n",
    "  df_lista = df_sodero['Leilao'].apply(lambda x: urljoin(lista_sites[0], x))\n",
    "  df_sodero.to_csv('df_sodero.csv', index=False)\n",
    "finally:\n",
    "  print('Raspagem na home page finalizada.')\n",
    "  driver.quit()\n",
    "  # vpn_changer.disconnect_vpn()"
   ]
  },
  {
   "cell_type": "code",
   "execution_count": null,
   "metadata": {},
   "outputs": [],
   "source": [
    "from bs4 import BeautifulSoup\n",
    "import json\n",
    "from selenium import webdriver\n",
    "\n",
    "driver = webdriver.Chrome(executable_path='C:/Users/victo/AI/Cognificadora/cognificar_leiloes/chromedriver.exe')\n",
    "driver.get('https://lumtest.com/myip.json')\n",
    "lumi = BeautifulSoup(driver.page_source, 'html.parser')\n",
    "parse = json.loads(lumi.text)\n",
    "print(parse['ip'])"
   ]
  },
  {
   "cell_type": "code",
   "execution_count": 8,
   "metadata": {},
   "outputs": [
    {
     "name": "stdout",
     "output_type": "stream",
     "text": [
      "103.50.33.150\n"
     ]
    }
   ],
   "source": [
    "decode = 'MTAzLjUwLjMzLjE1MA=='\n",
    "\n",
    "import base64\n",
    "ip = base64.b64decode(decode).decode('utf-8')\n",
    "print(ip)"
   ]
  }
 ],
 "metadata": {
  "kernelspec": {
   "display_name": "Python 3",
   "language": "python",
   "name": "python3"
  },
  "language_info": {
   "codemirror_mode": {
    "name": "ipython",
    "version": 3
   },
   "file_extension": ".py",
   "mimetype": "text/x-python",
   "name": "python",
   "nbconvert_exporter": "python",
   "pygments_lexer": "ipython3",
   "version": "3.11.4"
  },
  "orig_nbformat": 4
 },
 "nbformat": 4,
 "nbformat_minor": 2
}
