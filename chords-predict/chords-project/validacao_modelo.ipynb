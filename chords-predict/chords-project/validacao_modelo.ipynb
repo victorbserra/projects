{
 "cells": [
  {
   "cell_type": "code",
   "execution_count": 1,
   "metadata": {},
   "outputs": [
    {
     "name": "stderr",
     "output_type": "stream",
     "text": [
      "c:\\Users\\victor.serra\\AppData\\Local\\Programs\\Python\\Python39\\lib\\site-packages\\torchvision\\io\\image.py:13: UserWarning: Failed to load image Python extension: [WinError 127] Não foi possível encontrar o procedimento especificado\n",
      "  warn(f\"Failed to load image Python extension: {e}\")\n"
     ]
    }
   ],
   "source": [
    "import torch\n",
    "from torchvision import models\n",
    "from torchvision import transforms\n",
    "from PIL import Image\n",
    "import torchaudio\n",
    "import torchaudio.transforms as T\n",
    "import os\n",
    "import pandas as pd"
   ]
  },
  {
   "cell_type": "code",
   "execution_count": null,
   "metadata": {},
   "outputs": [],
   "source": [
    "# model = models.densenet121(pretrained=False)\n",
    "\n",
    "# model.classifier = torch.nn.Linear(model.classifier.in_features, 373)\n",
    "# model.load_state_dict(torch.load('densenet_model_10.pth', map_location=torch.device('cpu')))\n",
    "# model.eval()"
   ]
  },
  {
   "cell_type": "code",
   "execution_count": 2,
   "metadata": {},
   "outputs": [
    {
     "name": "stderr",
     "output_type": "stream",
     "text": [
      "c:\\Users\\victor.serra\\AppData\\Local\\Programs\\Python\\Python39\\lib\\site-packages\\torchvision\\models\\_utils.py:208: UserWarning: The parameter 'pretrained' is deprecated since 0.13 and may be removed in the future, please use 'weights' instead.\n",
      "  warnings.warn(\n",
      "c:\\Users\\victor.serra\\AppData\\Local\\Programs\\Python\\Python39\\lib\\site-packages\\torchvision\\models\\_utils.py:223: UserWarning: Arguments other than a weight enum or `None` for 'weights' are deprecated since 0.13 and may be removed in the future. The current behavior is equivalent to passing `weights=None`.\n",
      "  warnings.warn(msg)\n"
     ]
    },
    {
     "data": {
      "text/plain": [
       "ResNet(\n",
       "  (conv1): Conv2d(3, 64, kernel_size=(7, 7), stride=(2, 2), padding=(3, 3), bias=False)\n",
       "  (bn1): BatchNorm2d(64, eps=1e-05, momentum=0.1, affine=True, track_running_stats=True)\n",
       "  (relu): ReLU(inplace=True)\n",
       "  (maxpool): MaxPool2d(kernel_size=3, stride=2, padding=1, dilation=1, ceil_mode=False)\n",
       "  (layer1): Sequential(\n",
       "    (0): Bottleneck(\n",
       "      (conv1): Conv2d(64, 64, kernel_size=(1, 1), stride=(1, 1), bias=False)\n",
       "      (bn1): BatchNorm2d(64, eps=1e-05, momentum=0.1, affine=True, track_running_stats=True)\n",
       "      (conv2): Conv2d(64, 64, kernel_size=(3, 3), stride=(1, 1), padding=(1, 1), bias=False)\n",
       "      (bn2): BatchNorm2d(64, eps=1e-05, momentum=0.1, affine=True, track_running_stats=True)\n",
       "      (conv3): Conv2d(64, 256, kernel_size=(1, 1), stride=(1, 1), bias=False)\n",
       "      (bn3): BatchNorm2d(256, eps=1e-05, momentum=0.1, affine=True, track_running_stats=True)\n",
       "      (relu): ReLU(inplace=True)\n",
       "      (downsample): Sequential(\n",
       "        (0): Conv2d(64, 256, kernel_size=(1, 1), stride=(1, 1), bias=False)\n",
       "        (1): BatchNorm2d(256, eps=1e-05, momentum=0.1, affine=True, track_running_stats=True)\n",
       "      )\n",
       "    )\n",
       "    (1): Bottleneck(\n",
       "      (conv1): Conv2d(256, 64, kernel_size=(1, 1), stride=(1, 1), bias=False)\n",
       "      (bn1): BatchNorm2d(64, eps=1e-05, momentum=0.1, affine=True, track_running_stats=True)\n",
       "      (conv2): Conv2d(64, 64, kernel_size=(3, 3), stride=(1, 1), padding=(1, 1), bias=False)\n",
       "      (bn2): BatchNorm2d(64, eps=1e-05, momentum=0.1, affine=True, track_running_stats=True)\n",
       "      (conv3): Conv2d(64, 256, kernel_size=(1, 1), stride=(1, 1), bias=False)\n",
       "      (bn3): BatchNorm2d(256, eps=1e-05, momentum=0.1, affine=True, track_running_stats=True)\n",
       "      (relu): ReLU(inplace=True)\n",
       "    )\n",
       "    (2): Bottleneck(\n",
       "      (conv1): Conv2d(256, 64, kernel_size=(1, 1), stride=(1, 1), bias=False)\n",
       "      (bn1): BatchNorm2d(64, eps=1e-05, momentum=0.1, affine=True, track_running_stats=True)\n",
       "      (conv2): Conv2d(64, 64, kernel_size=(3, 3), stride=(1, 1), padding=(1, 1), bias=False)\n",
       "      (bn2): BatchNorm2d(64, eps=1e-05, momentum=0.1, affine=True, track_running_stats=True)\n",
       "      (conv3): Conv2d(64, 256, kernel_size=(1, 1), stride=(1, 1), bias=False)\n",
       "      (bn3): BatchNorm2d(256, eps=1e-05, momentum=0.1, affine=True, track_running_stats=True)\n",
       "      (relu): ReLU(inplace=True)\n",
       "    )\n",
       "  )\n",
       "  (layer2): Sequential(\n",
       "    (0): Bottleneck(\n",
       "      (conv1): Conv2d(256, 128, kernel_size=(1, 1), stride=(1, 1), bias=False)\n",
       "      (bn1): BatchNorm2d(128, eps=1e-05, momentum=0.1, affine=True, track_running_stats=True)\n",
       "      (conv2): Conv2d(128, 128, kernel_size=(3, 3), stride=(2, 2), padding=(1, 1), bias=False)\n",
       "      (bn2): BatchNorm2d(128, eps=1e-05, momentum=0.1, affine=True, track_running_stats=True)\n",
       "      (conv3): Conv2d(128, 512, kernel_size=(1, 1), stride=(1, 1), bias=False)\n",
       "      (bn3): BatchNorm2d(512, eps=1e-05, momentum=0.1, affine=True, track_running_stats=True)\n",
       "      (relu): ReLU(inplace=True)\n",
       "      (downsample): Sequential(\n",
       "        (0): Conv2d(256, 512, kernel_size=(1, 1), stride=(2, 2), bias=False)\n",
       "        (1): BatchNorm2d(512, eps=1e-05, momentum=0.1, affine=True, track_running_stats=True)\n",
       "      )\n",
       "    )\n",
       "    (1): Bottleneck(\n",
       "      (conv1): Conv2d(512, 128, kernel_size=(1, 1), stride=(1, 1), bias=False)\n",
       "      (bn1): BatchNorm2d(128, eps=1e-05, momentum=0.1, affine=True, track_running_stats=True)\n",
       "      (conv2): Conv2d(128, 128, kernel_size=(3, 3), stride=(1, 1), padding=(1, 1), bias=False)\n",
       "      (bn2): BatchNorm2d(128, eps=1e-05, momentum=0.1, affine=True, track_running_stats=True)\n",
       "      (conv3): Conv2d(128, 512, kernel_size=(1, 1), stride=(1, 1), bias=False)\n",
       "      (bn3): BatchNorm2d(512, eps=1e-05, momentum=0.1, affine=True, track_running_stats=True)\n",
       "      (relu): ReLU(inplace=True)\n",
       "    )\n",
       "    (2): Bottleneck(\n",
       "      (conv1): Conv2d(512, 128, kernel_size=(1, 1), stride=(1, 1), bias=False)\n",
       "      (bn1): BatchNorm2d(128, eps=1e-05, momentum=0.1, affine=True, track_running_stats=True)\n",
       "      (conv2): Conv2d(128, 128, kernel_size=(3, 3), stride=(1, 1), padding=(1, 1), bias=False)\n",
       "      (bn2): BatchNorm2d(128, eps=1e-05, momentum=0.1, affine=True, track_running_stats=True)\n",
       "      (conv3): Conv2d(128, 512, kernel_size=(1, 1), stride=(1, 1), bias=False)\n",
       "      (bn3): BatchNorm2d(512, eps=1e-05, momentum=0.1, affine=True, track_running_stats=True)\n",
       "      (relu): ReLU(inplace=True)\n",
       "    )\n",
       "    (3): Bottleneck(\n",
       "      (conv1): Conv2d(512, 128, kernel_size=(1, 1), stride=(1, 1), bias=False)\n",
       "      (bn1): BatchNorm2d(128, eps=1e-05, momentum=0.1, affine=True, track_running_stats=True)\n",
       "      (conv2): Conv2d(128, 128, kernel_size=(3, 3), stride=(1, 1), padding=(1, 1), bias=False)\n",
       "      (bn2): BatchNorm2d(128, eps=1e-05, momentum=0.1, affine=True, track_running_stats=True)\n",
       "      (conv3): Conv2d(128, 512, kernel_size=(1, 1), stride=(1, 1), bias=False)\n",
       "      (bn3): BatchNorm2d(512, eps=1e-05, momentum=0.1, affine=True, track_running_stats=True)\n",
       "      (relu): ReLU(inplace=True)\n",
       "    )\n",
       "  )\n",
       "  (layer3): Sequential(\n",
       "    (0): Bottleneck(\n",
       "      (conv1): Conv2d(512, 256, kernel_size=(1, 1), stride=(1, 1), bias=False)\n",
       "      (bn1): BatchNorm2d(256, eps=1e-05, momentum=0.1, affine=True, track_running_stats=True)\n",
       "      (conv2): Conv2d(256, 256, kernel_size=(3, 3), stride=(2, 2), padding=(1, 1), bias=False)\n",
       "      (bn2): BatchNorm2d(256, eps=1e-05, momentum=0.1, affine=True, track_running_stats=True)\n",
       "      (conv3): Conv2d(256, 1024, kernel_size=(1, 1), stride=(1, 1), bias=False)\n",
       "      (bn3): BatchNorm2d(1024, eps=1e-05, momentum=0.1, affine=True, track_running_stats=True)\n",
       "      (relu): ReLU(inplace=True)\n",
       "      (downsample): Sequential(\n",
       "        (0): Conv2d(512, 1024, kernel_size=(1, 1), stride=(2, 2), bias=False)\n",
       "        (1): BatchNorm2d(1024, eps=1e-05, momentum=0.1, affine=True, track_running_stats=True)\n",
       "      )\n",
       "    )\n",
       "    (1): Bottleneck(\n",
       "      (conv1): Conv2d(1024, 256, kernel_size=(1, 1), stride=(1, 1), bias=False)\n",
       "      (bn1): BatchNorm2d(256, eps=1e-05, momentum=0.1, affine=True, track_running_stats=True)\n",
       "      (conv2): Conv2d(256, 256, kernel_size=(3, 3), stride=(1, 1), padding=(1, 1), bias=False)\n",
       "      (bn2): BatchNorm2d(256, eps=1e-05, momentum=0.1, affine=True, track_running_stats=True)\n",
       "      (conv3): Conv2d(256, 1024, kernel_size=(1, 1), stride=(1, 1), bias=False)\n",
       "      (bn3): BatchNorm2d(1024, eps=1e-05, momentum=0.1, affine=True, track_running_stats=True)\n",
       "      (relu): ReLU(inplace=True)\n",
       "    )\n",
       "    (2): Bottleneck(\n",
       "      (conv1): Conv2d(1024, 256, kernel_size=(1, 1), stride=(1, 1), bias=False)\n",
       "      (bn1): BatchNorm2d(256, eps=1e-05, momentum=0.1, affine=True, track_running_stats=True)\n",
       "      (conv2): Conv2d(256, 256, kernel_size=(3, 3), stride=(1, 1), padding=(1, 1), bias=False)\n",
       "      (bn2): BatchNorm2d(256, eps=1e-05, momentum=0.1, affine=True, track_running_stats=True)\n",
       "      (conv3): Conv2d(256, 1024, kernel_size=(1, 1), stride=(1, 1), bias=False)\n",
       "      (bn3): BatchNorm2d(1024, eps=1e-05, momentum=0.1, affine=True, track_running_stats=True)\n",
       "      (relu): ReLU(inplace=True)\n",
       "    )\n",
       "    (3): Bottleneck(\n",
       "      (conv1): Conv2d(1024, 256, kernel_size=(1, 1), stride=(1, 1), bias=False)\n",
       "      (bn1): BatchNorm2d(256, eps=1e-05, momentum=0.1, affine=True, track_running_stats=True)\n",
       "      (conv2): Conv2d(256, 256, kernel_size=(3, 3), stride=(1, 1), padding=(1, 1), bias=False)\n",
       "      (bn2): BatchNorm2d(256, eps=1e-05, momentum=0.1, affine=True, track_running_stats=True)\n",
       "      (conv3): Conv2d(256, 1024, kernel_size=(1, 1), stride=(1, 1), bias=False)\n",
       "      (bn3): BatchNorm2d(1024, eps=1e-05, momentum=0.1, affine=True, track_running_stats=True)\n",
       "      (relu): ReLU(inplace=True)\n",
       "    )\n",
       "    (4): Bottleneck(\n",
       "      (conv1): Conv2d(1024, 256, kernel_size=(1, 1), stride=(1, 1), bias=False)\n",
       "      (bn1): BatchNorm2d(256, eps=1e-05, momentum=0.1, affine=True, track_running_stats=True)\n",
       "      (conv2): Conv2d(256, 256, kernel_size=(3, 3), stride=(1, 1), padding=(1, 1), bias=False)\n",
       "      (bn2): BatchNorm2d(256, eps=1e-05, momentum=0.1, affine=True, track_running_stats=True)\n",
       "      (conv3): Conv2d(256, 1024, kernel_size=(1, 1), stride=(1, 1), bias=False)\n",
       "      (bn3): BatchNorm2d(1024, eps=1e-05, momentum=0.1, affine=True, track_running_stats=True)\n",
       "      (relu): ReLU(inplace=True)\n",
       "    )\n",
       "    (5): Bottleneck(\n",
       "      (conv1): Conv2d(1024, 256, kernel_size=(1, 1), stride=(1, 1), bias=False)\n",
       "      (bn1): BatchNorm2d(256, eps=1e-05, momentum=0.1, affine=True, track_running_stats=True)\n",
       "      (conv2): Conv2d(256, 256, kernel_size=(3, 3), stride=(1, 1), padding=(1, 1), bias=False)\n",
       "      (bn2): BatchNorm2d(256, eps=1e-05, momentum=0.1, affine=True, track_running_stats=True)\n",
       "      (conv3): Conv2d(256, 1024, kernel_size=(1, 1), stride=(1, 1), bias=False)\n",
       "      (bn3): BatchNorm2d(1024, eps=1e-05, momentum=0.1, affine=True, track_running_stats=True)\n",
       "      (relu): ReLU(inplace=True)\n",
       "    )\n",
       "  )\n",
       "  (layer4): Sequential(\n",
       "    (0): Bottleneck(\n",
       "      (conv1): Conv2d(1024, 512, kernel_size=(1, 1), stride=(1, 1), bias=False)\n",
       "      (bn1): BatchNorm2d(512, eps=1e-05, momentum=0.1, affine=True, track_running_stats=True)\n",
       "      (conv2): Conv2d(512, 512, kernel_size=(3, 3), stride=(2, 2), padding=(1, 1), bias=False)\n",
       "      (bn2): BatchNorm2d(512, eps=1e-05, momentum=0.1, affine=True, track_running_stats=True)\n",
       "      (conv3): Conv2d(512, 2048, kernel_size=(1, 1), stride=(1, 1), bias=False)\n",
       "      (bn3): BatchNorm2d(2048, eps=1e-05, momentum=0.1, affine=True, track_running_stats=True)\n",
       "      (relu): ReLU(inplace=True)\n",
       "      (downsample): Sequential(\n",
       "        (0): Conv2d(1024, 2048, kernel_size=(1, 1), stride=(2, 2), bias=False)\n",
       "        (1): BatchNorm2d(2048, eps=1e-05, momentum=0.1, affine=True, track_running_stats=True)\n",
       "      )\n",
       "    )\n",
       "    (1): Bottleneck(\n",
       "      (conv1): Conv2d(2048, 512, kernel_size=(1, 1), stride=(1, 1), bias=False)\n",
       "      (bn1): BatchNorm2d(512, eps=1e-05, momentum=0.1, affine=True, track_running_stats=True)\n",
       "      (conv2): Conv2d(512, 512, kernel_size=(3, 3), stride=(1, 1), padding=(1, 1), bias=False)\n",
       "      (bn2): BatchNorm2d(512, eps=1e-05, momentum=0.1, affine=True, track_running_stats=True)\n",
       "      (conv3): Conv2d(512, 2048, kernel_size=(1, 1), stride=(1, 1), bias=False)\n",
       "      (bn3): BatchNorm2d(2048, eps=1e-05, momentum=0.1, affine=True, track_running_stats=True)\n",
       "      (relu): ReLU(inplace=True)\n",
       "    )\n",
       "    (2): Bottleneck(\n",
       "      (conv1): Conv2d(2048, 512, kernel_size=(1, 1), stride=(1, 1), bias=False)\n",
       "      (bn1): BatchNorm2d(512, eps=1e-05, momentum=0.1, affine=True, track_running_stats=True)\n",
       "      (conv2): Conv2d(512, 512, kernel_size=(3, 3), stride=(1, 1), padding=(1, 1), bias=False)\n",
       "      (bn2): BatchNorm2d(512, eps=1e-05, momentum=0.1, affine=True, track_running_stats=True)\n",
       "      (conv3): Conv2d(512, 2048, kernel_size=(1, 1), stride=(1, 1), bias=False)\n",
       "      (bn3): BatchNorm2d(2048, eps=1e-05, momentum=0.1, affine=True, track_running_stats=True)\n",
       "      (relu): ReLU(inplace=True)\n",
       "    )\n",
       "  )\n",
       "  (avgpool): AdaptiveAvgPool2d(output_size=(1, 1))\n",
       "  (fc): Linear(in_features=2048, out_features=373, bias=True)\n",
       ")"
      ]
     },
     "execution_count": 2,
     "metadata": {},
     "output_type": "execute_result"
    }
   ],
   "source": [
    "model = models.resnet50(pretrained=False)\n",
    "\n",
    "model.fc = torch.nn.Linear(model.fc.in_features, 373)\n",
    "model.load_state_dict(torch.load('resnet_model_9.pth', map_location=torch.device('cpu')))\n",
    "model.eval()"
   ]
  },
  {
   "cell_type": "code",
   "execution_count": 57,
   "metadata": {},
   "outputs": [],
   "source": [
    "import librosa\n",
    "import librosa.display\n",
    "import numpy as np\n",
    "import matplotlib.pyplot as plt\n",
    "from scipy.ndimage import label"
   ]
  },
  {
   "cell_type": "code",
   "execution_count": 18,
   "metadata": {},
   "outputs": [
    {
     "data": {
      "text/html": [
       "<div>\n",
       "<style scoped>\n",
       "    .dataframe tbody tr th:only-of-type {\n",
       "        vertical-align: middle;\n",
       "    }\n",
       "\n",
       "    .dataframe tbody tr th {\n",
       "        vertical-align: top;\n",
       "    }\n",
       "\n",
       "    .dataframe thead th {\n",
       "        text-align: right;\n",
       "    }\n",
       "</style>\n",
       "<table border=\"1\" class=\"dataframe\">\n",
       "  <thead>\n",
       "    <tr style=\"text-align: right;\">\n",
       "      <th></th>\n",
       "      <th>file_name</th>\n",
       "      <th>tuning</th>\n",
       "      <th>details</th>\n",
       "      <th>clean</th>\n",
       "      <th>chord</th>\n",
       "    </tr>\n",
       "  </thead>\n",
       "  <tbody>\n",
       "    <tr>\n",
       "      <th>0</th>\n",
       "      <td>t_DADGBE_guitarA(b5)sus_Cfastxx108108DADGBE.mp3</td>\n",
       "      <td>DADGBE</td>\n",
       "      <td>A(b5)sus_Cfastxx108108</td>\n",
       "      <td>A(b5)sus_Cfastxx108108</td>\n",
       "      <td>Adim</td>\n",
       "    </tr>\n",
       "    <tr>\n",
       "      <th>1</th>\n",
       "      <td>t_DADGBE_guitarA(b5)sus_Fsfast404242DADGBE.mp3</td>\n",
       "      <td>DADGBE</td>\n",
       "      <td>A(b5)sus_Fsfast404242</td>\n",
       "      <td>A(b5)sus_Fsfast404242</td>\n",
       "      <td>D#dim</td>\n",
       "    </tr>\n",
       "    <tr>\n",
       "      <th>2</th>\n",
       "      <td>t_DADGBE_guitarA11sus2_Cfast1077787DADGBE.mp3</td>\n",
       "      <td>DADGBE</td>\n",
       "      <td>A11sus2_Cfast1077787</td>\n",
       "      <td>A11sus2_Cfast1077787</td>\n",
       "      <td>Am11</td>\n",
       "    </tr>\n",
       "    <tr>\n",
       "      <th>3</th>\n",
       "      <td>t_DADGBE_guitarA11sus2_Fsfast400000DADGBE.mp3</td>\n",
       "      <td>DADGBE</td>\n",
       "      <td>A11sus2_Fsfast400000</td>\n",
       "      <td>A11sus2_Fsfast400000</td>\n",
       "      <td>Em11</td>\n",
       "    </tr>\n",
       "    <tr>\n",
       "      <th>4</th>\n",
       "      <td>t_DADGBE_guitarA13fast004020DADGBE.mp3</td>\n",
       "      <td>DADGBE</td>\n",
       "      <td>A13fast004020</td>\n",
       "      <td>A13fast004020</td>\n",
       "      <td>A13</td>\n",
       "    </tr>\n",
       "  </tbody>\n",
       "</table>\n",
       "</div>"
      ],
      "text/plain": [
       "                                         file_name  tuning   \n",
       "0  t_DADGBE_guitarA(b5)sus_Cfastxx108108DADGBE.mp3  DADGBE  \\\n",
       "1   t_DADGBE_guitarA(b5)sus_Fsfast404242DADGBE.mp3  DADGBE   \n",
       "2    t_DADGBE_guitarA11sus2_Cfast1077787DADGBE.mp3  DADGBE   \n",
       "3    t_DADGBE_guitarA11sus2_Fsfast400000DADGBE.mp3  DADGBE   \n",
       "4           t_DADGBE_guitarA13fast004020DADGBE.mp3  DADGBE   \n",
       "\n",
       "                  details                   clean  chord  \n",
       "0  A(b5)sus_Cfastxx108108  A(b5)sus_Cfastxx108108   Adim  \n",
       "1   A(b5)sus_Fsfast404242   A(b5)sus_Fsfast404242  D#dim  \n",
       "2    A11sus2_Cfast1077787    A11sus2_Cfast1077787   Am11  \n",
       "3    A11sus2_Fsfast400000    A11sus2_Fsfast400000   Em11  \n",
       "4           A13fast004020           A13fast004020    A13  "
      ]
     },
     "execution_count": 18,
     "metadata": {},
     "output_type": "execute_result"
    }
   ],
   "source": [
    "labels = pd.read_csv('labels.csv')\n",
    "labels.head()"
   ]
  },
  {
   "cell_type": "code",
   "execution_count": 113,
   "metadata": {},
   "outputs": [],
   "source": [
    "def filter_rows(row):\n",
    "    clean_prefix = row['clean'].split('_')[0] if '_' in row['clean'] else row['clean']\n",
    "    chord_prefix = row['chord'].split('\\\\')[0]\n",
    "    return clean_prefix == chord_prefix or chord_prefix in row['clean']\n",
    "\n",
    "# Aplicar o filtro\n",
    "labels = labels[labels.apply(filter_rows, axis=1)]"
   ]
  },
  {
   "cell_type": "code",
   "execution_count": 122,
   "metadata": {},
   "outputs": [
    {
     "data": {
      "text/html": [
       "<div>\n",
       "<style scoped>\n",
       "    .dataframe tbody tr th:only-of-type {\n",
       "        vertical-align: middle;\n",
       "    }\n",
       "\n",
       "    .dataframe tbody tr th {\n",
       "        vertical-align: top;\n",
       "    }\n",
       "\n",
       "    .dataframe thead th {\n",
       "        text-align: right;\n",
       "    }\n",
       "</style>\n",
       "<table border=\"1\" class=\"dataframe\">\n",
       "  <thead>\n",
       "    <tr style=\"text-align: right;\">\n",
       "      <th></th>\n",
       "      <th>file_name</th>\n",
       "      <th>tuning</th>\n",
       "      <th>details</th>\n",
       "      <th>clean</th>\n",
       "      <th>chord</th>\n",
       "    </tr>\n",
       "  </thead>\n",
       "  <tbody>\n",
       "    <tr>\n",
       "      <th>36936</th>\n",
       "      <td>t_EADGBE_guitarC5_Efast032010.mp3</td>\n",
       "      <td>EADGBE</td>\n",
       "      <td>C5_Efast032010</td>\n",
       "      <td>C5_Efast032010</td>\n",
       "      <td>C</td>\n",
       "    </tr>\n",
       "  </tbody>\n",
       "</table>\n",
       "</div>"
      ],
      "text/plain": [
       "                               file_name  tuning         details   \n",
       "36936  t_EADGBE_guitarC5_Efast032010.mp3  EADGBE  C5_Efast032010  \\\n",
       "\n",
       "                clean chord  \n",
       "36936  C5_Efast032010     C  "
      ]
     },
     "execution_count": 122,
     "metadata": {},
     "output_type": "execute_result"
    }
   ],
   "source": [
    "filtered_rows[(filtered_rows['clean'] == 'C5_Efast032010')]"
   ]
  },
  {
   "cell_type": "code",
   "execution_count": 111,
   "metadata": {},
   "outputs": [
    {
     "data": {
      "text/html": [
       "<div>\n",
       "<style scoped>\n",
       "    .dataframe tbody tr th:only-of-type {\n",
       "        vertical-align: middle;\n",
       "    }\n",
       "\n",
       "    .dataframe tbody tr th {\n",
       "        vertical-align: top;\n",
       "    }\n",
       "\n",
       "    .dataframe thead th {\n",
       "        text-align: right;\n",
       "    }\n",
       "</style>\n",
       "<table border=\"1\" class=\"dataframe\">\n",
       "  <thead>\n",
       "    <tr style=\"text-align: right;\">\n",
       "      <th></th>\n",
       "      <th>file_name</th>\n",
       "      <th>tuning</th>\n",
       "      <th>details</th>\n",
       "      <th>clean</th>\n",
       "      <th>chord</th>\n",
       "    </tr>\n",
       "  </thead>\n",
       "  <tbody>\n",
       "    <tr>\n",
       "      <th>2427</th>\n",
       "      <td>t_DADGBE_guitarC9_Gfast010010DADGBE.mp3</td>\n",
       "      <td>DADGBE</td>\n",
       "      <td>C9_Gfast010010</td>\n",
       "      <td>C9_Gfast010010</td>\n",
       "      <td>C9\\G</td>\n",
       "    </tr>\n",
       "    <tr>\n",
       "      <th>2428</th>\n",
       "      <td>t_DADGBE_guitarC9_Gfast210010DADGBE.mp3</td>\n",
       "      <td>DADGBE</td>\n",
       "      <td>C9_Gfast210010</td>\n",
       "      <td>C9_Gfast210010</td>\n",
       "      <td>C9\\G</td>\n",
       "    </tr>\n",
       "    <tr>\n",
       "      <th>2429</th>\n",
       "      <td>t_DADGBE_guitarC9_Gfast555556DADGBE.mp3</td>\n",
       "      <td>DADGBE</td>\n",
       "      <td>C9_Gfast555556</td>\n",
       "      <td>C9_Gfast555556</td>\n",
       "      <td>C9\\G</td>\n",
       "    </tr>\n",
       "    <tr>\n",
       "      <th>2430</th>\n",
       "      <td>t_DADGBE_guitarC9_Gfast555556DADGBEv.mp3</td>\n",
       "      <td>DADGBE</td>\n",
       "      <td>C9_Gfast555556v</td>\n",
       "      <td>C9_Gfast555556v</td>\n",
       "      <td>C9\\G</td>\n",
       "    </tr>\n",
       "    <tr>\n",
       "      <th>2431</th>\n",
       "      <td>t_DADGBE_guitarC9_Gfast558558DADGBEv.mp3</td>\n",
       "      <td>DADGBE</td>\n",
       "      <td>C9_Gfast558558v</td>\n",
       "      <td>C9_Gfast558558v</td>\n",
       "      <td>C9\\G</td>\n",
       "    </tr>\n",
       "  </tbody>\n",
       "</table>\n",
       "</div>"
      ],
      "text/plain": [
       "                                     file_name  tuning          details   \n",
       "2427   t_DADGBE_guitarC9_Gfast010010DADGBE.mp3  DADGBE   C9_Gfast010010  \\\n",
       "2428   t_DADGBE_guitarC9_Gfast210010DADGBE.mp3  DADGBE   C9_Gfast210010   \n",
       "2429   t_DADGBE_guitarC9_Gfast555556DADGBE.mp3  DADGBE   C9_Gfast555556   \n",
       "2430  t_DADGBE_guitarC9_Gfast555556DADGBEv.mp3  DADGBE  C9_Gfast555556v   \n",
       "2431  t_DADGBE_guitarC9_Gfast558558DADGBEv.mp3  DADGBE  C9_Gfast558558v   \n",
       "\n",
       "                clean chord  \n",
       "2427   C9_Gfast010010  C9\\G  \n",
       "2428   C9_Gfast210010  C9\\G  \n",
       "2429   C9_Gfast555556  C9\\G  \n",
       "2430  C9_Gfast555556v  C9\\G  \n",
       "2431  C9_Gfast558558v  C9\\G  "
      ]
     },
     "execution_count": 111,
     "metadata": {},
     "output_type": "execute_result"
    }
   ],
   "source": [
    "labels[(labels['chord'] == 'C9\\G')].head()"
   ]
  },
  {
   "cell_type": "code",
   "execution_count": 142,
   "metadata": {},
   "outputs": [
    {
     "data": {
      "text/plain": [
       "<matplotlib.collections.QuadMesh at 0x1c568b2a5e0>"
      ]
     },
     "execution_count": 142,
     "metadata": {},
     "output_type": "execute_result"
    },
    {
     "data": {
      "image/png": "[encoded data removed]",
      "text/plain": [
       "<Figure size 1000x400 with 1 Axes>"
      ]
     },
     "metadata": {},
     "output_type": "display_data"
    }
   ],
   "source": [
    "audio_data, sampling_rate = librosa.load('chords/variation_chord_audio/t_EADGBE_guitarGs5strum466x44.mp3')\n",
    "mel_spectrogram = librosa.feature.melspectrogram(y=audio_data, sr=sampling_rate)\n",
    "mel_spectrogram_db = librosa.power_to_db(mel_spectrogram, ref=np.max)\n",
    "fig, ax = plt.subplots(figsize=(10, 4))\n",
    "librosa.display.specshow(librosa.power_to_db(mel_spectrogram, ref=np.max), ax=ax, x_axis=None, y_axis=None)"
   ]
  },
  {
   "cell_type": "code",
   "execution_count": 136,
   "metadata": {},
   "outputs": [
    {
     "data": {
      "text/plain": [
       "<matplotlib.collections.QuadMesh at 0x1c5688946d0>"
      ]
     },
     "execution_count": 136,
     "metadata": {},
     "output_type": "execute_result"
    },
    {
     "data": {
      "image/png": "[encoded data removed]",
      "text/plain": [
       "<Figure size 1000x400 with 1 Axes>"
      ]
     },
     "metadata": {},
     "output_type": "display_data"
    }
   ],
   "source": [
    "audio_data, sampling_rate = librosa.load('audios_testes/do_mi.mp3')\n",
    "# Gerar o Mel Spectrogram\n",
    "mel_spectrogram = librosa.feature.melspectrogram(y=audio_data, sr=sampling_rate)\n",
    "mel_spectrogram_db = librosa.power_to_db(mel_spectrogram, ref=np.max)\n",
    "\n",
    "# Thresholding\n",
    "threshold = np.percentile(mel_spectrogram_db, 76)  # Define o limiar como o percentil 80\n",
    "mask = mel_spectrogram_db > threshold\n",
    "\n",
    "# Detecção de região e Bounding Box\n",
    "labeled_array, num_features = label(mask)\n",
    "# Identifique a maior região conectada, que seria o seu sinal principal\n",
    "sizes = [np.sum(labeled_array == i) for i in range(1, num_features + 1)]\n",
    "max_region_label = np.argmax(sizes) + 1\n",
    "# Crie uma máscara para a maior região\n",
    "main_region_mask = labeled_array == max_region_label\n",
    "\n",
    "# Encontre os limites do slicing\n",
    "rows = np.any(main_region_mask, axis=1)\n",
    "cols = np.any(main_region_mask, axis=0)\n",
    "row_min, row_max = np.where(rows)[0][[0, -1]]\n",
    "col_min, col_max = np.where(cols)[0][[0, -1]]\n",
    "\n",
    "# Slicing do array para obter apenas a região de interesse\n",
    "mel_spectrogram_db_clean = mel_spectrogram_db[row_min:row_max, col_min:col_max]\n",
    "\n",
    "# Exibir o espectrograma cortado\n",
    "plt.figure(figsize=(10, 4))\n",
    "librosa.display.specshow(mel_spectrogram_db_clean, sr=sampling_rate, x_axis='time', y_axis='mel')"
   ]
  },
  {
   "cell_type": "code",
   "execution_count": 143,
   "metadata": {},
   "outputs": [
    {
     "data": {
      "text/plain": [
       "<matplotlib.collections.QuadMesh at 0x1c568c5ecd0>"
      ]
     },
     "execution_count": 143,
     "metadata": {},
     "output_type": "execute_result"
    },
    {
     "data": {
      "image/png": "[encoded data removed]",
      "text/plain": [
       "<Figure size 1000x400 with 1 Axes>"
      ]
     },
     "metadata": {},
     "output_type": "display_data"
    }
   ],
   "source": [
    "audio_data, sampling_rate = librosa.load('audios_testes/G#5nylon.mp3')\n",
    "mel_spectrogram = librosa.feature.melspectrogram(y=audio_data, sr=sampling_rate)\n",
    "mel_spectrogram_db = librosa.power_to_db(mel_spectrogram, ref=np.max)\n",
    "\n",
    "threshold = np.percentile(mel_spectrogram_db, 80)  # Define o limiar como o percentil 80\n",
    "mask = mel_spectrogram_db > threshold\n",
    "\n",
    "# Detecção de região e Bounding Box\n",
    "labeled_array, num_features = label(mask)\n",
    "# Identifique a maior região conectada, que seria o seu sinal principal\n",
    "sizes = [np.sum(labeled_array == i) for i in range(1, num_features + 1)]\n",
    "max_region_label = np.argmax(sizes) + 1\n",
    "\n",
    "# Crie uma máscara para a maior região\n",
    "main_region_mask = labeled_array == max_region_label\n",
    "\n",
    "# Encontre os limites do slicing\n",
    "rows = np.any(main_region_mask, axis=1)\n",
    "cols = np.any(main_region_mask, axis=0)\n",
    "row_min, row_max = np.where(rows)[0][[0, -1]]\n",
    "col_min, col_max = np.where(cols)[0][[0, -1]]\n",
    "\n",
    "# Slicing do array para obter apenas a região de interesse\n",
    "mel_spectrogram_db_clean = mel_spectrogram_db[row_min:row_max, col_min:col_max]\n",
    "\n",
    "fig, ax = plt.subplots(figsize=(10, 4))\n",
    "librosa.display.specshow(mel_spectrogram_db_clean, sr=sampling_rate, ax=ax, x_axis=None, y_axis=None)"
   ]
  },
  {
   "cell_type": "code",
   "execution_count": 38,
   "metadata": {},
   "outputs": [],
   "source": [
    "def process_image_tradicional(file_path):\n",
    "    audio_data, sampling_rate = librosa.load(file_path)\n",
    "    mel_spectrogram = librosa.feature.melspectrogram(y=audio_data, sr=sampling_rate)\n",
    "    \n",
    "    fig, ax = plt.subplots(figsize=(10, 4))\n",
    "    librosa.display.specshow(librosa.power_to_db(mel_spectrogram, ref=np.max), ax=ax, x_axis=None, y_axis=None)\n",
    "    plt.axis('off')\n",
    "    plt.tight_layout()\n",
    "    image_save_path = 'temp_file.png'\n",
    "    plt.savefig(image_save_path, bbox_inches='tight', pad_inches=0)\n",
    "    plt.close()\n",
    "\n",
    "    image = Image.open('temp_file.png').convert('RGB')\n",
    "    image_tensor = transforms.ToTensor()(image)\n",
    "    os.remove('temp_file.png')\n",
    "    resize = transforms.Resize((224, 224))\n",
    "    normalize = transforms.Normalize(mean=[0.30297324, 0.11515954, 0.23932154], std=[0.35486796, 0.1679149, 0.2177348])\n",
    "    image_tensor_normalized = normalize(image_tensor)\n",
    "    \n",
    "    return image_tensor_normalized"
   ]
  },
  {
   "cell_type": "code",
   "execution_count": 3,
   "metadata": {},
   "outputs": [],
   "source": [
    "def process_image(file_path):\n",
    "    # Carrega o arquivo de áudio MP3 e converte para mono se estéreo\n",
    "    waveform, sample_rate = torchaudio.load(file_path)\n",
    "    if waveform.shape[0] > 1:  # Mais de um canal\n",
    "        waveform = torch.mean(waveform, dim=0, keepdim=True)  # Média dos canais para mono\n",
    "    \n",
    "    # Realiza a transformação para espectrograma Mel\n",
    "    spectrogram_transform = T.MelSpectrogram(sample_rate=sample_rate)\n",
    "    spectrogram = spectrogram_transform(waveform)\n",
    "\n",
    "    # Converte o espectrograma para decibéis\n",
    "    spectrogram_db = T.AmplitudeToDB()(spectrogram)\n",
    "    \n",
    "    # Remove a primeira dimensão de 'canal', pois ela é 1 depois de converter para mono\n",
    "    spectrogram_db = spectrogram_db.squeeze(0).numpy()\n",
    "    \n",
    "    # Converte para PIL Image e redimensiona para 224x224\n",
    "    spectrogram_image = Image.fromarray(spectrogram_db, mode='L')\n",
    "    resize_transform = transforms.Resize((224, 224))\n",
    "    spectrogram_image = resize_transform(spectrogram_image)\n",
    "    \n",
    "    # Converta para tensor\n",
    "    to_tensor_transform = transforms.ToTensor()\n",
    "    image_tensor = to_tensor_transform(spectrogram_image)\n",
    "    \n",
    "    # Se o seu modelo espera uma imagem RGB, você precisa converter o tensor para ter 3 canais\n",
    "    if image_tensor.shape[0] == 1:\n",
    "        image_tensor = image_tensor.repeat(3, 1, 1)\n",
    "    \n",
    "    # Normalize\n",
    "    normalize_transform = transforms.Normalize(mean=[0.30297324, 0.11515954, 0.23932154],\n",
    "                                              std=[0.35486796, 0.1679149, 0.2177348])\n",
    "    image_tensor = normalize_transform(image_tensor)\n",
    "    \n",
    "    return image_tensor\n"
   ]
  },
  {
   "cell_type": "code",
   "execution_count": 144,
   "metadata": {},
   "outputs": [
    {
     "name": "stderr",
     "output_type": "stream",
     "text": [
      "c:\\Users\\victor.serra\\AppData\\Local\\Programs\\Python\\Python39\\lib\\site-packages\\torchaudio\\functional\\functional.py:584: UserWarning: At least one mel filterbank has all zero values. The value for `n_mels` (128) may be set too high. Or, the value for `n_freqs` (201) may be set too low.\n",
      "  warnings.warn(\n"
     ]
    },
    {
     "name": "stdout",
     "output_type": "stream",
     "text": [
      "A classe prevista é: 245\n"
     ]
    }
   ],
   "source": [
    "new_data_path = 'chords/variation_chord_audio/t_EADGBE_guitarGs5strum466x44.mp3'\n",
    "# new_data_path = 'audios_testes/do_mi.mp3'  # Substitua pelo caminho do seu novo arquivo\n",
    "image_tensor = process_image(new_data_path)\n",
    "\n",
    "# Fazer a inferência\n",
    "# Adicionar uma dimensão de batch com `unsqueeze`\n",
    "image_tensor = image_tensor.unsqueeze(0)\n",
    "\n",
    "# Fazer a previsão\n",
    "with torch.no_grad():\n",
    "    output = model(image_tensor)\n",
    "    # Obter a classe prevista\n",
    "    _, predicted_class = torch.max(output, 1)\n",
    "\n",
    "# Fazer algo com o resultado da previsão\n",
    "print(f'A classe prevista é: {predicted_class.item()}')"
   ]
  },
  {
   "cell_type": "code",
   "execution_count": 6,
   "metadata": {},
   "outputs": [],
   "source": [
    "labels = pd.read_csv('labels.csv')\n",
    "labels['file_name'] = labels['file_name'].apply(lambda x: f\"{x.split('.')[0]}.png\")\n",
    "labels['chord_idx'] = pd.Categorical(labels['chord']).codes"
   ]
  },
  {
   "cell_type": "code",
   "execution_count": 7,
   "metadata": {},
   "outputs": [],
   "source": [
    "acordes = labels[['chord','chord_idx']].drop_duplicates().sort_values('chord_idx')"
   ]
  },
  {
   "cell_type": "code",
   "execution_count": 145,
   "metadata": {},
   "outputs": [
    {
     "data": {
      "text/html": [
       "<div>\n",
       "<style scoped>\n",
       "    .dataframe tbody tr th:only-of-type {\n",
       "        vertical-align: middle;\n",
       "    }\n",
       "\n",
       "    .dataframe tbody tr th {\n",
       "        vertical-align: top;\n",
       "    }\n",
       "\n",
       "    .dataframe thead th {\n",
       "        text-align: right;\n",
       "    }\n",
       "</style>\n",
       "<table border=\"1\" class=\"dataframe\">\n",
       "  <thead>\n",
       "    <tr style=\"text-align: right;\">\n",
       "      <th></th>\n",
       "      <th>chord</th>\n",
       "      <th>chord_idx</th>\n",
       "    </tr>\n",
       "  </thead>\n",
       "  <tbody>\n",
       "    <tr>\n",
       "      <th>5614</th>\n",
       "      <td>Em13</td>\n",
       "      <td>245</td>\n",
       "    </tr>\n",
       "  </tbody>\n",
       "</table>\n",
       "</div>"
      ],
      "text/plain": [
       "     chord  chord_idx\n",
       "5614  Em13        245"
      ]
     },
     "execution_count": 145,
     "metadata": {},
     "output_type": "execute_result"
    }
   ],
   "source": [
    "acordes[acordes['chord_idx'] == predicted_class.item()]"
   ]
  },
  {
   "cell_type": "code",
   "execution_count": null,
   "metadata": {},
   "outputs": [],
   "source": []
  },
  {
   "cell_type": "code",
   "execution_count": null,
   "metadata": {},
   "outputs": [],
   "source": []
  },
  {
   "cell_type": "code",
   "execution_count": null,
   "metadata": {},
   "outputs": [],
   "source": []
  },
  {
   "cell_type": "code",
   "execution_count": null,
   "metadata": {},
   "outputs": [],
   "source": []
  },
  {
   "cell_type": "code",
   "execution_count": null,
   "metadata": {},
   "outputs": [],
   "source": []
  },
  {
   "cell_type": "code",
   "execution_count": null,
   "metadata": {},
   "outputs": [],
   "source": []
  },
  {
   "cell_type": "code",
   "execution_count": null,
   "metadata": {},
   "outputs": [],
   "source": []
  },
  {
   "cell_type": "code",
   "execution_count": null,
   "metadata": {},
   "outputs": [],
   "source": []
  }
 ],
 "metadata": {
  "kernelspec": {
   "display_name": "Python 3",
   "language": "python",
   "name": "python3"
  },
  "language_info": {
   "codemirror_mode": {
    "name": "ipython",
    "version": 3
   },
   "file_extension": ".py",
   "mimetype": "text/x-python",
   "name": "python",
   "nbconvert_exporter": "python",
   "pygments_lexer": "ipython3",
   "version": "3.9.13"
  }
 },
 "nbformat": 4,
 "nbformat_minor": 2
}
