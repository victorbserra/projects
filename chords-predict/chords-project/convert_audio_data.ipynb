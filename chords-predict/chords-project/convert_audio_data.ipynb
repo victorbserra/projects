{
 "cells": [
  {
   "cell_type": "code",
   "execution_count": null,
   "metadata": {},
   "outputs": [],
   "source": [
    "import os\n",
    "import csv\n",
    "import librosa\n",
    "import librosa.display\n",
    "import matplotlib.pyplot as plt\n",
    "import numpy as np\n",
    "from tqdm.notebook import tqdm\n",
    "import pandas as pd"
   ]
  },
  {
   "cell_type": "code",
   "execution_count": null,
   "metadata": {},
   "outputs": [],
   "source": [
    "def convert_audio_features(audio_data,sampling_rate):\n",
    "    spectrogram = librosa.feature.melspectrogram(y=audio_data, sr=sampling_rate)\n",
    "    mfcc = librosa.feature.mfcc(y=audio_data, sr=sampling_rate)\n",
    "    chroma = librosa.feature.chroma_stft(y=audio_data, sr=sampling_rate)\n",
    "    contrast = librosa.feature.spectral_contrast(y=audio_data, sr=sampling_rate)\n",
    "    tonnetz = librosa.feature.tonnetz(y=audio_data, sr=sampling_rate)\n",
    "\n",
    "    list = [spectrogram, mfcc, chroma, contrast, tonnetz]\n",
    "    \n",
    "    return list"
   ]
  },
  {
   "cell_type": "code",
   "execution_count": null,
   "metadata": {},
   "outputs": [],
   "source": [
    "def plot_audio_features(feature, feature_type):\n",
    "    plt.figure(figsize=(10, 4))\n",
    "    \n",
    "    if feature_type == 'spectrogram':\n",
    "        librosa.display.specshow(librosa.power_to_db(feature, ref=np.max), x_axis='time', y_axis='mel')\n",
    "        plt.colorbar(format='%+2.0f dB')\n",
    "        plt.title('Mel Spectrogram')\n",
    "        \n",
    "    elif feature_type == 'mfcc':\n",
    "        librosa.display.specshow(feature, x_axis='time')\n",
    "        plt.colorbar()\n",
    "        plt.title('MFCC')\n",
    "        \n",
    "    elif feature_type == 'chroma':\n",
    "        librosa.display.specshow(feature, x_axis='time', y_axis='chroma')\n",
    "        plt.colorbar()\n",
    "        plt.title('Chroma Feature')\n",
    "        \n",
    "    elif feature_type == 'contrast':\n",
    "        librosa.display.specshow(feature, x_axis='time')\n",
    "        plt.colorbar()\n",
    "        plt.title('Spectral Contrast')\n",
    "        \n",
    "    elif feature_type == 'tonnetz':\n",
    "        librosa.display.specshow(feature, x_axis='time')\n",
    "        plt.colorbar()\n",
    "        plt.title('Tonnetz')\n",
    "        \n",
    "    else:\n",
    "        print(\"Invalid feature type. Choose from ['spectrogram', 'mfcc', 'chroma', 'contrast', 'tonnetz']\")\n",
    "        return\n",
    "    \n",
    "    plt.tight_layout()\n",
    "    plt.show()"
   ]
  },
  {
   "cell_type": "code",
   "execution_count": null,
   "metadata": {},
   "outputs": [],
   "source": [
    "def plot_all_features(features_list):\n",
    "    features_dict = {\n",
    "        'spectrogram': features_list[0],\n",
    "        'mfcc': features_list[1],\n",
    "        'chroma': features_list[2],\n",
    "        'contrast': features_list[3],\n",
    "        'tonnetz': features_list[4]\n",
    "    }\n",
    "    fig, axs = plt.subplots(2, 3, figsize=(15, 10))\n",
    "    \n",
    "    for ax, (feature_type, feature) in zip(axs.flatten(), features_dict.items()):\n",
    "        if feature_type == 'spectrogram':\n",
    "            im = librosa.display.specshow(librosa.power_to_db(feature, ref=np.max), x_axis='time', y_axis='mel', ax=ax)\n",
    "            ax.set_title('Mel Spectrogram')\n",
    "        elif feature_type == 'mfcc':\n",
    "            im = librosa.display.specshow(feature, x_axis='time', ax=ax)\n",
    "            ax.set_title('MFCC')\n",
    "        elif feature_type == 'chroma':\n",
    "            im = librosa.display.specshow(feature, x_axis='time', y_axis='chroma', ax=ax)\n",
    "            ax.set_title('Chroma Feature')\n",
    "        elif feature_type == 'contrast':\n",
    "            im = librosa.display.specshow(feature, x_axis='time', ax=ax)\n",
    "            ax.set_title('Spectral Contrast')\n",
    "        elif feature_type == 'tonnetz':\n",
    "            im = librosa.display.specshow(feature, x_axis='time', ax=ax)\n",
    "            ax.set_title('Tonnetz')\n",
    "        else:\n",
    "            print(f\"Invalid feature type: {feature_type}\")\n",
    "            return\n",
    "\n",
    "        fig.colorbar(im, ax=ax)\n",
    "\n",
    "    plt.tight_layout()\n",
    "    plt.show()"
   ]
  },
  {
   "cell_type": "code",
   "execution_count": null,
   "metadata": {},
   "outputs": [],
   "source": [
    "audio_folder = \"C:/Users/victor.serra/OneDrive - americanas s.a/Área de Trabalho/python/chords/variation_chord_audio/\"\n",
    "audio_file_Am7b5_slow = 't_DsGsCsFsAsDs_guitarAsm7b5slowx20201DsGsCsFsAsDs.mp3'\n",
    "audio_file_Am7b5b_fast = 't_DsGsCsFsAsDs_guitarAsm7b5fastx20201DsGsCsFsAsDs.mp3'\n",
    "audio_file_Fm7   = 't_DsGsCsFsAsDs_guitarFm7fast002222DsGsCsFsAsDs.mp3'"
   ]
  },
  {
   "cell_type": "code",
   "execution_count": null,
   "metadata": {},
   "outputs": [],
   "source": [
    "Am7b5b_fast = convert_audio_features(librosa.load(f'{audio_folder}/{audio_file_Am7b5b_fast}')[0],22050)\n",
    "Am7b5b_slow = convert_audio_features(librosa.load(f'{audio_folder}/{audio_file_Am7b5_slow}')[0],22050)\n",
    "Fm7 = convert_audio_features(librosa.load(f'{audio_folder}/{audio_file_Fm7}')[0],22050)"
   ]
  },
  {
   "cell_type": "code",
   "execution_count": null,
   "metadata": {},
   "outputs": [],
   "source": [
    "Am7b5b_fast[1].shape"
   ]
  },
  {
   "cell_type": "code",
   "execution_count": null,
   "metadata": {},
   "outputs": [],
   "source": [
    "Am7b5b_slow[1].shape"
   ]
  },
  {
   "cell_type": "code",
   "execution_count": null,
   "metadata": {},
   "outputs": [],
   "source": [
    "plot_all_features(Am7b5b_slow)"
   ]
  },
  {
   "cell_type": "code",
   "execution_count": null,
   "metadata": {},
   "outputs": [],
   "source": [
    "plot_all_features(Fm7)"
   ]
  },
  {
   "cell_type": "code",
   "execution_count": null,
   "metadata": {},
   "outputs": [],
   "source": [
    "parsed_files = pd.read_csv('parsed_files.csv')"
   ]
  },
  {
   "cell_type": "code",
   "execution_count": null,
   "metadata": {},
   "outputs": [],
   "source": [
    "parsed_files[parsed_files['file_name'] == 't_DADGBE_banjoD7fast04210.mp3']"
   ]
  },
  {
   "cell_type": "code",
   "execution_count": null,
   "metadata": {},
   "outputs": [],
   "source": [
    "# Pasta onde os arquivos de áudio estão armazenados\n",
    "audio_folder = \"C:/Users/victor.serra/OneDrive - americanas s.a/Área de Trabalho/python/chords/variation_chord_audio/\"\n",
    "csv_file_path = 'audio_features.csv'\n",
    "parsed_files = pd.read_csv('parsed_files.csv')\n",
    "parsed_files_list = parsed_files['file_name'].tolist()\n",
    "\n",
    "\n",
    "# Verificar se o arquivo CSV já existe\n",
    "file_exists = os.path.isfile(csv_file_path)\n",
    "\n",
    "# Abrir o arquivo CSV\n",
    "with open(csv_file_path, 'a', newline='') as csvfile:\n",
    "    fieldnames = ['file_name', 'chroma', 'contrast', 'tonnetz']\n",
    "    writer = csv.DictWriter(csvfile, fieldnames=fieldnames)\n",
    "\n",
    "    # Escrever o cabeçalho apenas se o arquivo não existir\n",
    "    if not file_exists:\n",
    "        writer.writeheader()\n",
    "\n",
    "    # Percorrer a pasta e processar os arquivos\n",
    "    for i, filename in enumerate(os.listdir(audio_folder)):\n",
    "        if filename.endswith('.mp3') and filename not in parsed_files_list:\n",
    "            print(i, filename)\n",
    "            if filename.endswith('.mp3'):\n",
    "                # Limitar o número de arquivos processados para este exemplo\n",
    "                audio_file_path = os.path.join(audio_folder, filename)\n",
    "                audio_data, sampling_rate = librosa.load(audio_file_path)\n",
    "\n",
    "                # Extrair características\n",
    "                chroma = librosa.feature.chroma_stft(y=audio_data, sr=sampling_rate).tolist()\n",
    "                contrast = librosa.feature.spectral_contrast(y=audio_data, sr=sampling_rate).tolist()\n",
    "                tonnetz = librosa.feature.tonnetz(y=audio_data, sr=sampling_rate).tolist()\n",
    "\n",
    "                # Escrever no CSV\n",
    "                writer.writerow({\n",
    "                    'file_name': filename,\n",
    "                    'chroma': chroma,\n",
    "                    'contrast': contrast,\n",
    "                    'tonnetz': tonnetz\n",
    "                })\n",
    "            else:\n",
    "                print(f\"Skipping: {filename}\")\n"
   ]
  },
  {
   "cell_type": "code",
   "execution_count": null,
   "metadata": {},
   "outputs": [],
   "source": []
  },
  {
   "cell_type": "code",
   "execution_count": null,
   "metadata": {},
   "outputs": [],
   "source": []
  },
  {
   "cell_type": "code",
   "execution_count": null,
   "metadata": {},
   "outputs": [],
   "source": []
  },
  {
   "cell_type": "code",
   "execution_count": null,
   "metadata": {},
   "outputs": [],
   "source": []
  },
  {
   "cell_type": "code",
   "execution_count": null,
   "metadata": {},
   "outputs": [],
   "source": []
  },
  {
   "cell_type": "code",
   "execution_count": null,
   "metadata": {},
   "outputs": [],
   "source": []
  },
  {
   "cell_type": "code",
   "execution_count": null,
   "metadata": {},
   "outputs": [],
   "source": [
    "# Pasta onde os arquivos de áudio estão armazenados\n",
    "audio_folder = \"C:/Users/victor.serra/OneDrive - americanas s.a/Área de Trabalho/python/chords/variation_chord_audio/\"\n",
    "csv_file_path = 'audio_features_spectrogram.csv'\n",
    "\n",
    "# Verificar se o arquivo CSV já existe\n",
    "file_exists = os.path.isfile(csv_file_path)\n",
    "\n",
    "# Abrir o arquivo CSV\n",
    "with open(csv_file_path, 'a', newline='') as csvfile:\n",
    "    fieldnames = ['file_name', 'spectrogram']\n",
    "    writer = csv.DictWriter(csvfile, fieldnames=fieldnames)\n",
    "\n",
    "    # Escrever o cabeçalho apenas se o arquivo não existir\n",
    "    if not file_exists:\n",
    "        writer.writeheader()\n",
    "\n",
    "    # Percorrer a pasta e processar os arquivos\n",
    "    for i, filename in enumerate(os.listdir(audio_folder)):\n",
    "        print(i, filename)\n",
    "        if filename.endswith('.mp3'):\n",
    "            # Limitar o número de arquivos processados para este exemplo\n",
    "            audio_file_path = os.path.join(audio_folder, filename)\n",
    "            audio_data, sampling_rate = librosa.load(audio_file_path)\n",
    "\n",
    "            # Extrair características\n",
    "            spectrogram = librosa.feature.melspectrogram(y=audio_data, sr=sampling_rate).tolist()\n",
    "\n",
    "            # Escrever no CSV\n",
    "            writer.writerow({\n",
    "                'file_name': filename,\n",
    "                'spectrogram': spectrogram\n",
    "            })"
   ]
  },
  {
   "cell_type": "code",
   "execution_count": null,
   "metadata": {},
   "outputs": [],
   "source": []
  },
  {
   "cell_type": "code",
   "execution_count": null,
   "metadata": {},
   "outputs": [],
   "source": [
    "# Pasta onde os arquivos de áudio estão armazenados\n",
    "audio_folder = \"C:/Users/victor.serra/OneDrive - americanas s.a/Área de Trabalho/python/chords/variation_chord_audio/\"\n",
    "csv_file_path = 'audio_features.csv'\n",
    "\n",
    "# Verificar se o arquivo CSV já existe\n",
    "file_exists = os.path.isfile(csv_file_path)\n",
    "\n",
    "# Abrir o arquivo CSV\n",
    "with open(csv_file_path, 'a', newline='') as csvfile:\n",
    "    fieldnames = ['file_name', 'spectrogram', 'mfcc', 'chroma', 'contrast', 'tonnetz']\n",
    "    writer = csv.DictWriter(csvfile, fieldnames=fieldnames)\n",
    "\n",
    "    # Escrever o cabeçalho apenas se o arquivo não existir\n",
    "    if not file_exists:\n",
    "        writer.writeheader()\n",
    "\n",
    "    # Percorrer a pasta e processar os arquivos\n",
    "    for i, filename in enumerate(os.listdir(audio_folder)):\n",
    "        if filename.endswith('.mp3'):\n",
    "            # Limitar o número de arquivos processados para este exemplo\n",
    "            audio_file_path = os.path.join(audio_folder, filename)\n",
    "            audio_data, sampling_rate = librosa.load(audio_file_path)\n",
    "\n",
    "            # Extrair características\n",
    "            spectrogram = librosa.feature.melspectrogram(y=audio_data, sr=sampling_rate).tolist()\n",
    "            mfcc = librosa.feature.mfcc(y=audio_data, sr=sampling_rate).tolist()\n",
    "            chroma = librosa.feature.chroma_stft(y=audio_data, sr=sampling_rate).tolist()\n",
    "            contrast = librosa.feature.spectral_contrast(y=audio_data, sr=sampling_rate).tolist()\n",
    "            tonnetz = librosa.feature.tonnetz(y=audio_data, sr=sampling_rate).tolist()\n",
    "\n",
    "            # Escrever no CSV\n",
    "            writer.writerow({\n",
    "                'file_name': filename,\n",
    "                'spectrogram': spectrogram,\n",
    "                'mfcc': mfcc,\n",
    "                'chroma': chroma,\n",
    "                'contrast': contrast,\n",
    "                'tonnetz': tonnetz\n",
    "            })\n"
   ]
  },
  {
   "cell_type": "code",
   "execution_count": null,
   "metadata": {},
   "outputs": [],
   "source": []
  },
  {
   "cell_type": "code",
   "execution_count": null,
   "metadata": {},
   "outputs": [],
   "source": []
  },
  {
   "cell_type": "code",
   "execution_count": null,
   "metadata": {},
   "outputs": [],
   "source": []
  },
  {
   "cell_type": "code",
   "execution_count": null,
   "metadata": {},
   "outputs": [],
   "source": []
  }
 ],
 "metadata": {
  "kernelspec": {
   "display_name": "Python 3",
   "language": "python",
   "name": "python3"
  },
  "language_info": {
   "codemirror_mode": {
    "name": "ipython",
    "version": 3
   },
   "file_extension": ".py",
   "mimetype": "text/x-python",
   "name": "python",
   "nbconvert_exporter": "python",
   "pygments_lexer": "ipython3",
   "version": "3.9.13"
  }
 },
 "nbformat": 4,
 "nbformat_minor": 2
}
