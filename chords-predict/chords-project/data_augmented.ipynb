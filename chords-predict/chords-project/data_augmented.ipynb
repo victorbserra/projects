{
 "cells": [
  {
   "cell_type": "code",
   "execution_count": 896,
   "metadata": {},
   "outputs": [],
   "source": [
    "import os\n",
    "import torch\n",
    "import random\n",
    "import librosa\n",
    "import numpy as np\n",
    "import pandas as pd\n",
    "import librosa.display\n",
    "import matplotlib.pyplot as plt\n",
    "import torchaudio\n",
    "import torchaudio.transforms as T\n",
    "import soundfile as sf\n",
    "from tqdm import tqdm\n",
    "from pydub import AudioSegment\n",
    "from scipy.ndimage import label\n",
    "from torchvision import models\n",
    "from torchvision import transforms\n",
    "from PIL import Image\n",
    "# from google.colab import files\n",
    "# from google.cloud import storage"
   ]
  },
  {
   "cell_type": "markdown",
   "metadata": {},
   "source": [
    "### Import Colab"
   ]
  },
  {
   "cell_type": "code",
   "execution_count": null,
   "metadata": {},
   "outputs": [],
   "source": [
    "storage_client = storage.Client()"
   ]
  },
  {
   "cell_type": "code",
   "execution_count": null,
   "metadata": {},
   "outputs": [],
   "source": [
    "firts_time = True"
   ]
  },
  {
   "cell_type": "code",
   "execution_count": null,
   "metadata": {},
   "outputs": [],
   "source": [
    "if firts_time:\n",
    "    uploaded = files.upload()\n",
    "\n",
    "    for fn in uploaded.keys():\n",
    "        print('User uploaded file \"{name}\" with length {length} bytes'.format(\n",
    "            name=fn, length=len(uploaded[fn])))\n"
   ]
  },
  {
   "cell_type": "code",
   "execution_count": null,
   "metadata": {},
   "outputs": [],
   "source": [
    "os.environ['GOOGLE_APPLICATION_CREDENTIALS'] = f'/content/projetos-aleatorios-379913-61df4a1c249e.json'"
   ]
  },
  {
   "cell_type": "code",
   "execution_count": null,
   "metadata": {},
   "outputs": [],
   "source": [
    "bucket_name = 'projeto_musical'\n",
    "csv_file_name = 'labels.csv'\n",
    "local_file_path = csv_file_name\n",
    "\n",
    "# Cria um objeto bucket\n",
    "bucket = storage_client.get_bucket(bucket_name)\n",
    "\n",
    "# Cria um objeto blob\n",
    "blob = bucket.blob(csv_file_name)\n",
    "\n",
    "# Baixa o arquivo para o ambiente local\n",
    "blob.download_to_filename(local_file_path)\n",
    "\n",
    "# Agora o arquivo CSV está salvo localmente e você pode lê-lo usando pandas\n",
    "df = pd.read_csv(local_file_path)\n",
    "print(df.head())"
   ]
  },
  {
   "cell_type": "code",
   "execution_count": null,
   "metadata": {},
   "outputs": [],
   "source": [
    "bucket_name = 'projeto_musical'\n",
    "rar_file_name = 'variation_chord_audio.rar'\n",
    "local_rar_path = rar_file_name\n",
    "\n",
    "# Define o bucket e o blob\n",
    "bucket = storage_client.get_bucket(bucket_name)\n",
    "blob = bucket.blob(rar_file_name)\n",
    "\n",
    "#Baixa o arquivo RAR para o ambiente local do Colab\n",
    "blob.download_to_filename(local_rar_path)\n",
    "\n",
    "# Descompacta o arquivo RAR\n",
    "!mkdir /\n",
    "!unrar x {local_rar_path} /chords"
   ]
  },
  {
   "cell_type": "code",
   "execution_count": null,
   "metadata": {},
   "outputs": [],
   "source": [
    "bucket_name = 'projeto_musical'\n",
    "rar_file_name = 'noise_audios.rar'\n",
    "local_rar_path = rar_file_name\n",
    "\n",
    "# Define o bucket e o blob\n",
    "bucket = storage_client.get_bucket(bucket_name)\n",
    "blob = bucket.blob(rar_file_name)\n",
    "\n",
    "#Baixa o arquivo RAR para o ambiente local do Colab\n",
    "blob.download_to_filename(local_rar_path)\n",
    "\n",
    "# Descompacta o arquivo RAR\n",
    "!mkdir /\n",
    "!unrar x {local_rar_path} /chords"
   ]
  },
  {
   "cell_type": "markdown",
   "metadata": {},
   "source": [
    "### Import de Dados e Tratamentos Básicos"
   ]
  },
  {
   "cell_type": "code",
   "execution_count": 897,
   "metadata": {},
   "outputs": [],
   "source": [
    "audio_folder = 'chords/variation_chord_audio/'"
   ]
  },
  {
   "cell_type": "code",
   "execution_count": 898,
   "metadata": {},
   "outputs": [],
   "source": [
    "labels = pd.read_csv('labels.csv')\n",
    "labels['file_path'] = labels['file_name'].apply(lambda x: os.path.join(audio_folder, x))\n",
    "labels['chord_idx'] = pd.Categorical(labels['chord']).codes"
   ]
  },
  {
   "cell_type": "code",
   "execution_count": 899,
   "metadata": {},
   "outputs": [],
   "source": [
    "def filter_rows(row):\n",
    "    chord_ajusted = row['chord'].replace('7#5','aug7') if '7#5' in row['chord'] else row['chord']\n",
    "    chord_ajusted = chord_ajusted.replace('9#5','aug9') if '9#5' in row['chord'] else row['chord']\n",
    "    chord_ajusted = chord_ajusted.replace('#','s').replace('\\\\','_')\n",
    "    clean_prefix = row['clean'].split('_')[0] if '_' in row['clean'] else row['clean']\n",
    "    chord_prefix = chord_ajusted.split('\\\\')[0]\n",
    "    return clean_prefix == chord_prefix or chord_ajusted in row['clean']\n",
    "\n",
    "# Aplicar o filtro\n",
    "filtered_rows = labels[labels.apply(filter_rows, axis=1)]"
   ]
  },
  {
   "cell_type": "markdown",
   "metadata": {},
   "source": [
    "### Equilíbrio de Classes"
   ]
  },
  {
   "cell_type": "code",
   "execution_count": 905,
   "metadata": {},
   "outputs": [
    {
     "data": {
      "text/plain": [
       "chord\n",
       "E7sus4     141\n",
       "F#7sus4    138\n",
       "Bm11       137\n",
       "Cm11       134\n",
       "Cmaj13     133\n",
       "          ... \n",
       "D#aug       31\n",
       "C5          31\n",
       "D#5         28\n",
       "D5          28\n",
       "C#5         28\n",
       "Name: count, Length: 346, dtype: int64"
      ]
     },
     "execution_count": 905,
     "metadata": {},
     "output_type": "execute_result"
    }
   ],
   "source": [
    "analise = filtered_rows['chord'].value_counts()\n",
    "analise"
   ]
  },
  {
   "cell_type": "code",
   "execution_count": 906,
   "metadata": {},
   "outputs": [
    {
     "name": "stdout",
     "output_type": "stream",
     "text": [
      "Media: 84.15\n",
      "Percentil 25: 69.0\n",
      "Mediana: 82.0\n",
      "Percentil 75: 99.0\n",
      "Desvio Padrão: 24.27\n",
      "Moda: 0    87\n",
      "Name: count, dtype: int64\n",
      "Max: 141\n",
      "Min: 28\n"
     ]
    }
   ],
   "source": [
    "print(\n",
    "    f'Media: {round(analise.mean(),2)}',\n",
    "    f'Percentil 25: {round(analise.quantile(0.25),2)}',\n",
    "    f'Mediana: {round(analise.median(),2)}',\n",
    "    f'Percentil 75: {round(analise.quantile(0.75),2)}',\n",
    "    f'Desvio Padrão: {round(analise.std(),2)}',\n",
    "    f'Moda: {analise.mode()}',\n",
    "    f'Max: {analise.max()}',\n",
    "    f'Min: {analise.min()}',\n",
    "    sep='\\n'\n",
    ")"
   ]
  },
  {
   "cell_type": "code",
   "execution_count": 907,
   "metadata": {},
   "outputs": [
    {
     "data": {
      "image/png": "[encoded data removed]",
      "text/plain": [
       "<Figure size 1000x500 with 1 Axes>"
      ]
     },
     "metadata": {},
     "output_type": "display_data"
    }
   ],
   "source": [
    "plt.figure(figsize=(10, 5))\n",
    "plt.hist(analise, bins=10, alpha=0.7, color='blue', edgecolor='black')\n",
    "plt.title('Histograma da Distribuição dos Acordes')\n",
    "plt.xlabel('Contagem de Acordes')\n",
    "plt.ylabel('Frequência')\n",
    "plt.grid(axis='y', alpha=0.75)\n",
    "plt.show()"
   ]
  },
  {
   "cell_type": "code",
   "execution_count": null,
   "metadata": {},
   "outputs": [],
   "source": [
    "output_dir = \"chords/variation_chord_audio_augmented/\"\n",
    "os.makedirs(output_dir, exist_ok=True)"
   ]
  },
  {
   "cell_type": "code",
   "execution_count": null,
   "metadata": {},
   "outputs": [],
   "source": [
    "def augment_audio(y, sr,file_path):\n",
    "    transformations = ['pitch_shift', 'time_stretch', 'noise', 'reverb', 'volume_adjust']\n",
    "    transformation = random.choice(transformations)\n",
    "\n",
    "    transformation_label = \"teste\"\n",
    "    if transformation == 'pitch_shift':\n",
    "        pitch_steps = random.randint(-2, 2)\n",
    "        y = librosa.effects.pitch_shift(y, sr=sr, n_steps=pitch_steps)\n",
    "        transformation_label = f\"pitch_{pitch_steps}\"\n",
    "    elif transformation == 'time_stretch':\n",
    "        rate = random.uniform(0.8, 1.2)\n",
    "        y = librosa.effects.time_stretch(y, rate=rate)\n",
    "        transformation_label = f\"stretch_{round(rate, 2)}\"\n",
    "    elif transformation == 'noise':\n",
    "        noise_amp = 0.005 * np.random.uniform() * np.amax(y)\n",
    "        y = y + noise_amp * np.random.normal(size=y.shape[0])\n",
    "        transformation_label = \"noise\"\n",
    "    elif transformation == 'reverb':\n",
    "        reverb_length = int(sr * 0.3)  # reverberação de 300 ms\n",
    "        impulse_response = np.zeros(reverb_length)\n",
    "        impulse_response[0] = 1\n",
    "        impulse_response[::int(sr*0.1)] = 0.5  # exemplo de resposta impulsiva simples\n",
    "        y = np.convolve(y, impulse_response)[:len(y)]\n",
    "        transformation_label = \"reverb\"\n",
    "    elif transformation == 'volume_adjust':\n",
    "        volume_change = np.random.uniform(0.7, 1.3)\n",
    "        y = y * volume_change\n",
    "        transformation_label = f\"vol_{round(volume_change, 2)}\"\n",
    "\n",
    "    file_name = os.path.basename(file_path)\n",
    "    file_name_without_ext = os.path.splitext(file_name)[0]\n",
    "    output_filename = os.path.join(output_dir, f\"{file_name_without_ext}_a_{transformation_label}.mp3\")\n",
    "    sf.write(output_filename, y, sr)\n",
    "\n",
    "    return output_filename"
   ]
  },
  {
   "cell_type": "code",
   "execution_count": null,
   "metadata": {},
   "outputs": [],
   "source": [
    "target_instance = analise.quantile(0.25)\n",
    "class_counts = filtered_rows['chord'].value_counts()\n",
    "median_instances = class_counts.median()\n",
    "data_aug_rate = class_counts.apply(lambda x: max(median_instances - x, 0) if x < target_instance else 0)"
   ]
  },
  {
   "cell_type": "code",
   "execution_count": null,
   "metadata": {},
   "outputs": [],
   "source": [
    "augmented_data = []\n",
    "\n",
    "for chord in tqdm(class_counts.index, desc='Overall Progress', leave=True):\n",
    "    rate = data_aug_rate[chord]\n",
    "    if rate > 0:\n",
    "        class_subset = filtered_rows[filtered_rows['chord'] == chord]\n",
    "        class_subset = class_subset.sample(frac=1).reset_index(drop=True)\n",
    "        samples_to_augment = class_subset.head(int(rate))\n",
    "        for _, row in tqdm(samples_to_augment.iterrows(), total=int(rate), desc=f'Augmenting {chord}', leave=False):\n",
    "            try:\n",
    "                y, sr = librosa.load(row['file_path'], sr=None)\n",
    "                output_file_path = augment_audio(y, sr, row['file_path'])\n",
    "                new_row = row.copy()\n",
    "                new_row['file_path'] = output_file_path\n",
    "                augmented_data.append(new_row)\n",
    "            except Exception as e:\n",
    "                print(f\"Erro ao processar {row['file_path']}: {e}\")\n",
    "\n",
    "augmented_df = pd.DataFrame(augmented_data)"
   ]
  },
  {
   "cell_type": "code",
   "execution_count": 909,
   "metadata": {},
   "outputs": [],
   "source": [
    "# augmented_df.to_csv('augmented_data.csv', index=False)\n",
    "# augment_df = pd.read_csv('augmented_data.csv')\n",
    "combined_df = pd.concat([filtered_rows, augmented_df], ignore_index=True)"
   ]
  },
  {
   "cell_type": "code",
   "execution_count": null,
   "metadata": {},
   "outputs": [],
   "source": [
    "plt.figure(figsize=(10, 5))\n",
    "plt.hist(combined_df['chord'].value_counts(), bins=10, alpha=0.7, color='blue', edgecolor='black')\n",
    "plt.title('Histograma da Distribuição dos Acordes')\n",
    "plt.xlabel('Contagem de Acordes')\n",
    "plt.ylabel('Frequência')\n",
    "plt.grid(axis='y', alpha=0.75)\n",
    "plt.show()"
   ]
  },
  {
   "cell_type": "code",
   "execution_count": null,
   "metadata": {},
   "outputs": [],
   "source": [
    "combined_df['chord'].value_counts()"
   ]
  },
  {
   "cell_type": "code",
   "execution_count": null,
   "metadata": {},
   "outputs": [],
   "source": [
    "target_instance = analise.quantile(0.75)\n",
    "target_std = round(analise.std(),0)\n",
    "# data_aug_rate_down = class_counts.apply(lambda x: target_std + round(target_std * (1-target_instance/x),0) if x > target_instance else 0)\n",
    "data_aug_rate_down = class_counts.apply(lambda x: target_std + round(target_std * (1-target_instance/x) * 1.2,0) if x > target_instance else 0)"
   ]
  },
  {
   "cell_type": "code",
   "execution_count": null,
   "metadata": {},
   "outputs": [],
   "source": [
    "for label, group in combined_df.groupby('chord'):\n",
    "    rate = data_aug_rate_down[label]\n",
    "    if rate > 0:\n",
    "        # Seleciona aleatoriamente 'rate' amostras para remover\n",
    "        samples_to_remove = group.sample(n=int(rate))\n",
    "        # Remove as amostras selecionadas do dataframe original\n",
    "        combined_df = combined_df.drop(samples_to_remove.index)\n",
    "\n",
    "combined_df.reset_index(drop=True, inplace=True)"
   ]
  },
  {
   "cell_type": "code",
   "execution_count": null,
   "metadata": {},
   "outputs": [],
   "source": [
    "combined_df['chord'].value_counts()"
   ]
  },
  {
   "cell_type": "code",
   "execution_count": null,
   "metadata": {},
   "outputs": [],
   "source": [
    "plt.figure(figsize=(10, 5))\n",
    "plt.hist(combined_df['chord'].value_counts(), bins=10, alpha=0.7, color='blue', edgecolor='black')\n",
    "plt.title('Histograma da Distribuição dos Acordes')\n",
    "plt.xlabel('Contagem de Acordes')\n",
    "plt.ylabel('Frequência')\n",
    "plt.grid(axis='y', alpha=0.75)\n",
    "plt.show()"
   ]
  },
  {
   "cell_type": "markdown",
   "metadata": {},
   "source": [
    "### Duplicação e Inversão de Áudio"
   ]
  },
  {
   "cell_type": "code",
   "execution_count": null,
   "metadata": {},
   "outputs": [],
   "source": [
    "output_dir = \"chords/variation_chord_audio_extended/\"\n",
    "os.makedirs(output_dir, exist_ok=True)"
   ]
  },
  {
   "cell_type": "markdown",
   "metadata": {},
   "source": [
    "#### Funções"
   ]
  },
  {
   "cell_type": "code",
   "execution_count": null,
   "metadata": {},
   "outputs": [],
   "source": [
    "def inverted_audio(file_path, output_dir, file_write = False):\n",
    "    # Carregar o áudio\n",
    "    y, sr = librosa.load(file_path, sr=None)\n",
    "    # Aplicar trim para remover silêncio\n",
    "    y, _ = librosa.effects.trim(y, top_db=30)\n",
    "    # Detectar onsets\n",
    "    onsets = librosa.onset.onset_detect(y=y, sr=sr, units='samples')\n",
    "    \n",
    "    # Definição da função auxiliar para encontrar o ataque antes dos onsets\n",
    "    def find_attack_before_onsets(y, onsets, lookback_frames=2000):\n",
    "        attack_points = []\n",
    "        for onset in onsets:\n",
    "            start = max(onset - lookback_frames, 0)\n",
    "            attack_point = start + np.argmin(y[start:onset])\n",
    "            attack_points.append(attack_point)\n",
    "        return np.array(attack_points)\n",
    "    \n",
    "    # Encontrar os pontos de ataque antes dos onsets\n",
    "    attack_points = find_attack_before_onsets(y, onsets)\n",
    "    \n",
    "    # Incluir o início e o fim do áudio\n",
    "    onset_boundaries = np.concatenate(([0], attack_points, [len(y)]))\n",
    "    \n",
    "    # Ajustar o último boundary baseado na média dos comprimentos anteriores\n",
    "    wave_lengths = np.diff(onset_boundaries)\n",
    "    average_length = np.mean(wave_lengths[:-1])\n",
    "    onset_boundaries[-1] = onset_boundaries[-2] + int(average_length)\n",
    "    onset_boundaries[-1] = min(onset_boundaries[-1], len(y))  # Garantir que não ultrapasse o comprimento do áudio\n",
    "    \n",
    "    # Dividir o áudio em segmentos\n",
    "    audio_beats = [y[onset_boundaries[i]:onset_boundaries[i + 1]] for i in range(len(onset_boundaries) - 1)]\n",
    "    \n",
    "    # Reverter a ordem dos segmentos de áudio, excluindo o último se ele for muito curto\n",
    "    reversed_audio = np.concatenate(audio_beats[::-1])\n",
    "    reversed_audio = reversed_audio[:-1]\n",
    "    \n",
    "    # Escrever o áudio processado em um arquivo\n",
    "    file_name = os.path.basename(file_path)\n",
    "    file_name_without_ext = os.path.splitext(file_name)[0]\n",
    "    extended_file_path = f\"{output_dir}/{os.path.splitext(file_name_without_ext)[0]}_reverted.mp3\"\n",
    "    if file_write:\n",
    "        sf.write(extended_file_path, reversed_audio, sr)\n",
    "    \n",
    "    return extended_file_path, reversed_audio"
   ]
  },
  {
   "cell_type": "code",
   "execution_count": null,
   "metadata": {},
   "outputs": [],
   "source": [
    "def adjust_audio_length(file_path, output_dir, file_write = False):\n",
    "    # Carregar o áudio\n",
    "    y, sr = librosa.load(file_path, sr=None)\n",
    "    # Aplicar trim para remover silêncio\n",
    "    y, _ = librosa.effects.trim(y, top_db=30)\n",
    "    # Detectar onsets\n",
    "    onsets = librosa.onset.onset_detect(y=y, sr=sr, units='samples')\n",
    "\n",
    "    # Encontrar os pontos de ataque antes dos onsets\n",
    "    def find_attack_before_onsets(y, onsets, lookback_frames=2000):\n",
    "        attack_points = []\n",
    "        for onset in onsets:\n",
    "            start = max(onset - lookback_frames, 0)\n",
    "            attack_point = start + np.argmin(y[start:onset])\n",
    "            attack_points.append(attack_point)\n",
    "        return np.array(attack_points)\n",
    "\n",
    "    attack_points = find_attack_before_onsets(y, onsets)\n",
    "\n",
    "    # Incluir o início e o fim do áudio\n",
    "    onset_boundaries = np.concatenate(([0], attack_points, [len(y)]))\n",
    "\n",
    "    # Ajustar o último boundary baseado na média dos comprimentos anteriores\n",
    "    wave_lengths = np.diff(onset_boundaries)\n",
    "    average_length = np.mean(wave_lengths[:-1])\n",
    "\n",
    "    # Se o último segmento for maior que a média, ajustá-lo\n",
    "    if wave_lengths[-1] > average_length:\n",
    "        onset_boundaries[-1] = onset_boundaries[-2] + int(average_length)\n",
    "\n",
    "    # Dividir o áudio em segmentos\n",
    "    audio_beats = [y[onset_boundaries[i]:onset_boundaries[i + 1]] for i in range(len(onset_boundaries) - 1)]\n",
    "\n",
    "    # Concatenar os segmentos para formar o áudio final\n",
    "    trimmed_audio = np.concatenate(audio_beats)\n",
    "\n",
    "    # Escrever o áudio ajustado em um arquivo\n",
    "    file_name = os.path.basename(file_path)\n",
    "    file_name_without_ext = os.path.splitext(file_name)[0]\n",
    "    adjusted_file_path = os.path.join(output_dir, f\"{file_name_without_ext}_trimmed.mp3\")\n",
    "    if file_write:\n",
    "        sf.write(adjusted_file_path, trimmed_audio, sr)\n",
    "\n",
    "    return adjusted_file_path, trimmed_audio"
   ]
  },
  {
   "cell_type": "code",
   "execution_count": null,
   "metadata": {},
   "outputs": [],
   "source": [
    "def extend_audio(file_path, output_dir, extension_factor, inverted = False):\n",
    "    y, sr = librosa.load(file_path, sr=None)\n",
    "\n",
    "    contains_strum = 'strum' in os.path.basename(file_path).lower()\n",
    "\n",
    "    if inverted:\n",
    "        _, y = inverted_audio(file_path,output_dir)\n",
    "        x = 'inv'\n",
    "    elif contains_strum:\n",
    "        y, _ = librosa.effects.trim(y, top_db=30)\n",
    "        x = 'only_trim'\n",
    "    else:\n",
    "        _, y = adjust_audio_length(file_path,output_dir)\n",
    "        x = 'norm'\n",
    "    \n",
    "    extended_audio = np.tile(y, extension_factor)\n",
    "    file_name = os.path.basename(file_path)\n",
    "    file_name_without_ext = os.path.splitext(file_name)[0]\n",
    "    extended_file_path = f\"{output_dir}/{os.path.splitext(file_name_without_ext)[0]}_extended_{extension_factor}x_{x}.mp3\"\n",
    "    extended_file_path = f\"{output_dir}{os.path.splitext(file_name_without_ext)[0]}_extended_{extension_factor}x.mp3\"\n",
    "    sf.write(extended_file_path, extended_audio, sr)\n",
    "    return extended_file_path"
   ]
  },
  {
   "cell_type": "markdown",
   "metadata": {},
   "source": [
    "#### Aplicação das Funções em Loop"
   ]
  },
  {
   "cell_type": "code",
   "execution_count": null,
   "metadata": {},
   "outputs": [],
   "source": [
    "extended_list = []\n",
    "\n",
    "for file_path in tqdm(labels['file_path'], desc='Overall Progress', leave=True):\n",
    "    for factor in [2, 3]:\n",
    "        extended_file_path = extend_audio(file_path, output_dir, factor, False)\n",
    "        new_row = labels[labels['file_path'] == file_path].iloc[0].copy()\n",
    "        new_row['file_path'] = extended_file_path\n",
    "        extended_list.append(new_row)"
   ]
  },
  {
   "cell_type": "code",
   "execution_count": null,
   "metadata": {},
   "outputs": [],
   "source": [
    "for file_path in tqdm(labels['file_path'], desc='Overall Progress', leave=True):\n",
    "    for factor in [2, 3]:\n",
    "        extended_file_path = extend_audio(file_path, output_dir, factor, True)\n",
    "        new_row = labels[labels['file_path'] == file_path].iloc[0].copy()\n",
    "        new_row['file_path'] = extended_file_path\n",
    "        extended_list.append(new_row)"
   ]
  },
  {
   "cell_type": "code",
   "execution_count": null,
   "metadata": {},
   "outputs": [],
   "source": [
    "df_extended = pd.DataFrame(extended_list)\n",
    "df_extended.to_csv('extended_data.csv', index=False)\n",
    "combined_df = pd.concat([combined_df, df_extended], ignore_index=True)"
   ]
  },
  {
   "cell_type": "code",
   "execution_count": null,
   "metadata": {},
   "outputs": [],
   "source": [
    "analise = combined_df['chord'].value_counts()"
   ]
  },
  {
   "cell_type": "code",
   "execution_count": null,
   "metadata": {},
   "outputs": [],
   "source": [
    "plt.figure(figsize=(10, 5))\n",
    "plt.hist(analise, bins=10, alpha=0.7, color='blue', edgecolor='black')\n",
    "plt.title('Histograma da Distribuição dos Acordes')\n",
    "plt.xlabel('Contagem de Acordes')\n",
    "plt.ylabel('Frequência')\n",
    "plt.grid(axis='y', alpha=0.75)\n",
    "plt.show()"
   ]
  },
  {
   "cell_type": "code",
   "execution_count": null,
   "metadata": {},
   "outputs": [],
   "source": [
    "print(\n",
    "    f'Media: {round(analise.mean(),2)}',\n",
    "    f'Percentil 25: {round(analise.quantile(0.25),2)}',\n",
    "    f'Mediana: {round(analise.median(),2)}',\n",
    "    f'Percentil 75: {round(analise.quantile(0.75),2)}',\n",
    "    f'Desvio Padrão: {round(analise.std(),2)}',\n",
    "    f'Moda: {analise.mode()}',\n",
    "    f'Max: {analise.max()}',\n",
    "    f'Min: {analise.min()}',\n",
    "    sep='\\n'\n",
    ")"
   ]
  },
  {
   "cell_type": "markdown",
   "metadata": {},
   "source": [
    "### Adições de Ruídos"
   ]
  },
  {
   "cell_type": "markdown",
   "metadata": {},
   "source": [
    "#### Short audio"
   ]
  },
  {
   "cell_type": "code",
   "execution_count": null,
   "metadata": {},
   "outputs": [],
   "source": [
    "noise_path = \"chords/noise_audios/short_sounds/\"\n",
    "output_dir = \"chords/variation_chord_audio_short_noise/\"\n",
    "os.makedirs(output_dir, exist_ok=True)"
   ]
  },
  {
   "cell_type": "code",
   "execution_count": null,
   "metadata": {},
   "outputs": [],
   "source": [
    "short_audio_list = []"
   ]
  },
  {
   "cell_type": "code",
   "execution_count": null,
   "metadata": {},
   "outputs": [],
   "source": [
    "def add_noises_short_sounds(file_path, output_dir, noise_path,i, sr=None):\n",
    "    noise_list = []\n",
    "    error = 0\n",
    "    while True:\n",
    "        try:\n",
    "            subfolder_choiced = random.choice(os.listdir(noise_path))\n",
    "            file_subpath = os.path.join(noise_path, subfolder_choiced)\n",
    "            choosen_noise = random.choice(os.listdir(file_subpath))\n",
    "            noise_file_path = os.path.join(file_subpath, choosen_noise)\n",
    "            choosen_noise_name = os.path.splitext(choosen_noise)[0]\n",
    "            choosen_noise_name = choosen_noise_name.replace(' ','_').lower()\n",
    "            noise, _ = librosa.load(noise_file_path, sr=sr)\n",
    "            y, sr = librosa.load(file_path, sr=sr)\n",
    "            y, _ = librosa.effects.trim(y, top_db=30)\n",
    "            repated_noise = np.tile(noise, int(np.ceil(len(y) / len(noise))))[:len(y)]\n",
    "\n",
    "            vol_rate = [.05,.1,.2,.3,.5]\n",
    "\n",
    "            file_name = os.path.basename(file_path)\n",
    "            file_name_without_ext = os.path.splitext(file_name)[0]\n",
    "            for rate in vol_rate:\n",
    "                y_noise = y + repated_noise * rate\n",
    "                new_file_path = f'{output_dir}{file_name_without_ext}_v_{rate}_c_{choosen_noise_name}_r_{i}.mp3'\n",
    "                sf.write(new_file_path, y_noise, sr)\n",
    "\n",
    "                dict_noise = {\n",
    "                    'file_path': new_file_path,\n",
    "                    'y_noise': y_noise\n",
    "                }\n",
    "\n",
    "                noise_list.append(dict_noise)\n",
    "            break\n",
    "        except Exception as e:\n",
    "            print(f'Erro ao processar {noise_path}: {e}')\n",
    "            error += 1\n",
    "            if error > 20:\n",
    "                break\n",
    "    return noise_list"
   ]
  },
  {
   "cell_type": "code",
   "execution_count": null,
   "metadata": {},
   "outputs": [],
   "source": [
    "for file_path in tqdm(labels['file_path'], desc='Overall Progress', leave=True):\n",
    "    for i in range(5):\n",
    "        new_row = labels[labels['file_path'] == file_path].iloc[0].copy()\n",
    "        short_audio = add_noises_short_sounds(file_path, output_dir, noise_path, i, None)\n",
    "        for noise in short_audio:\n",
    "            new_row['file_path'] = noise['file_path']\n",
    "            short_audio_list.append(new_row)"
   ]
  },
  {
   "cell_type": "code",
   "execution_count": null,
   "metadata": {},
   "outputs": [],
   "source": [
    "df_short_audio = pd.DataFrame(short_audio_list)\n",
    "df_short_audio.to_csv('short_audio_data.csv', index=False)"
   ]
  },
  {
   "cell_type": "markdown",
   "metadata": {},
   "source": [
    "#### World Audio"
   ]
  },
  {
   "cell_type": "code",
   "execution_count": null,
   "metadata": {},
   "outputs": [],
   "source": [
    "noise_path = \"chords/noise_audios/world_sounds/\"\n",
    "output_dir = \"chords/variation_chord_audio_world_noise/\"\n",
    "os.makedirs(output_dir, exist_ok=True)"
   ]
  },
  {
   "cell_type": "code",
   "execution_count": null,
   "metadata": {},
   "outputs": [],
   "source": [
    "world_audio_list = []"
   ]
  },
  {
   "cell_type": "code",
   "execution_count": null,
   "metadata": {},
   "outputs": [],
   "source": [
    "def add_noises_world_sounds(file_path, output_dir, noise_path,i, sr=None, white_nose = False, vol_rate = list):\n",
    "    noise_list = []\n",
    "    error = 0\n",
    "    while True:\n",
    "        try:\n",
    "            if white_nose:\n",
    "                choosen_noise = random.choice(os.listdir(noise_path))\n",
    "                noise_file_path = os.path.join(noise_path, choosen_noise)\n",
    "            else:\n",
    "                subfolder_choiced = random.choice(os.listdir(noise_path))\n",
    "                file_subpath = os.path.join(noise_path, subfolder_choiced)\n",
    "                choosen_noise = random.choice(os.listdir(file_subpath))\n",
    "                noise_file_path = os.path.join(file_subpath, choosen_noise)\n",
    "\n",
    "            choosen_noise_name = os.path.splitext(choosen_noise)[0]\n",
    "            choosen_noise_name = choosen_noise_name.replace('- ','').replace(',','').replace(' ','_').lower()\n",
    "            choosen_noise_name = choosen_noise_name.split('_')[:3]\n",
    "            choosen_noise_name = '_'.join(choosen_noise_name)\n",
    "\n",
    "            noise, _ = librosa.load(noise_file_path, sr=sr)\n",
    "            y, sr = librosa.load(file_path, sr=sr)\n",
    "            y, _ = librosa.effects.trim(y, top_db=30)\n",
    "            \n",
    "            if len(noise) < len(y):\n",
    "                start_point = random.randint(0, len(y) - len(noise))\n",
    "                noise = np.tile(noise, int(np.ceil(len(y) / len(noise))))[start_point:start_point + len(y)]\n",
    "            else:\n",
    "                start_point = random.randint(0, len(noise) - len(y))\n",
    "                noise = noise[start_point:start_point + len(y)]\n",
    "\n",
    "            file_name = os.path.basename(file_path)\n",
    "            file_name_without_ext = os.path.splitext(file_name)[0]\n",
    "            \n",
    "            for rate in vol_rate:\n",
    "                y_noise = y + noise * rate\n",
    "                new_file_path = f'{output_dir}{file_name_without_ext}_v_{rate}_c_{choosen_noise_name}_r_{i}.mp3'\n",
    "                sf.write(new_file_path, y_noise, sr)\n",
    "\n",
    "                dict_noise = {\n",
    "                    'file_path': new_file_path,\n",
    "                    'y_noise': y_noise\n",
    "                }\n",
    "\n",
    "                noise_list.append(dict_noise)\n",
    "            break\n",
    "        except Exception as e:\n",
    "            print(f'Erro ao processar {file_path}: {e}')\n",
    "            error += 1\n",
    "            if error > 20:\n",
    "                break\n",
    "    return noise_list"
   ]
  },
  {
   "cell_type": "code",
   "execution_count": null,
   "metadata": {},
   "outputs": [],
   "source": [
    "vol_rate = [.05,.1,.2,.5,1]\n",
    "\n",
    "for file_path in tqdm(labels['file_path'], desc='Overall Progress', leave=True):\n",
    "    for i in range(5):\n",
    "        new_row = labels[labels['file_path'] == file_path].iloc[0].copy()\n",
    "        short_audio = add_noises_world_sounds(file_path, output_dir, noise_path, i, None, False, vol_rate)\n",
    "        for noise in short_audio:\n",
    "            new_row['file_path'] = noise['file_path']\n",
    "            world_audio_list.append(new_row)"
   ]
  },
  {
   "cell_type": "code",
   "execution_count": null,
   "metadata": {},
   "outputs": [],
   "source": [
    "df_world_audio = pd.DataFrame(world_audio_list)\n",
    "df_world_audio.to_csv('world_audio_data.csv', index=False)"
   ]
  },
  {
   "cell_type": "markdown",
   "metadata": {},
   "source": [
    "### White Noise"
   ]
  },
  {
   "cell_type": "code",
   "execution_count": null,
   "metadata": {},
   "outputs": [],
   "source": [
    "noise_path = \"chords/noise_audios/white_noise_sfx/\"\n",
    "output_dir = \"chords/variation_chord_audio_white_noise/\"\n",
    "os.makedirs(output_dir, exist_ok=True)"
   ]
  },
  {
   "cell_type": "code",
   "execution_count": null,
   "metadata": {},
   "outputs": [],
   "source": [
    "white_noise_list = []"
   ]
  },
  {
   "cell_type": "code",
   "execution_count": null,
   "metadata": {},
   "outputs": [],
   "source": [
    "vol_rate = [.05,.1,.2,.4]\n",
    "\n",
    "for file_path in tqdm(labels['file_path'], desc='Overall Progress', leave=True):\n",
    "    for i in range(3):\n",
    "        new_row = labels[labels['file_path'] == file_path].iloc[0].copy()\n",
    "        short_audio = add_noises_world_sounds(file_path, output_dir, noise_path, i, None, True, vol_rate)\n",
    "        for noise in short_audio:\n",
    "            new_row['file_path'] = noise['file_path']\n",
    "            white_noise_list.append(new_row)"
   ]
  },
  {
   "cell_type": "code",
   "execution_count": null,
   "metadata": {},
   "outputs": [],
   "source": [
    "df_white_noise = pd.DataFrame(white_noise_list)\n",
    "df_white_noise.to_csv('white_noise_data.csv', index=False)"
   ]
  },
  {
   "cell_type": "markdown",
   "metadata": {},
   "source": [
    "### Conversão .rar e envio para o Blob"
   ]
  },
  {
   "cell_type": "markdown",
   "metadata": {},
   "source": [
    "#### Audio Data to blob"
   ]
  },
  {
   "cell_type": "code",
   "execution_count": null,
   "metadata": {},
   "outputs": [],
   "source": [
    "folders_to_zip = [\n",
    "    'chords/variation_chord_audio',\n",
    "    'chords/variation_chord_audio_augmented',\n",
    "    'chords/variation_chord_audio_extended',\n",
    "    'chords/variation_chord_audio_noise_short',\n",
    "    'chords/variation_chord_audio_noise_world',\n",
    "    'chords/variation_chord_audio_white_noise'\n",
    "]\n",
    "\n",
    "zip_file_name = 'audio_data.zip'"
   ]
  },
  {
   "cell_type": "code",
   "execution_count": null,
   "metadata": {},
   "outputs": [],
   "source": [
    "!zip -r {zip_file_name} {\" \".join(folders_to_zip)}"
   ]
  },
  {
   "cell_type": "code",
   "execution_count": null,
   "metadata": {},
   "outputs": [],
   "source": [
    "bucket = storage_client.get_bucket(bucket_name)\n",
    "blob = bucket.blob(zip_file_name)\n",
    "blob.upload_from_filename(zip_file_name)\n",
    "\n",
    "print(f'Arquivo {zip_file_name} enviado com sucesso para o bucket.')"
   ]
  },
  {
   "cell_type": "markdown",
   "metadata": {},
   "source": [
    "#### DataFrames to blob"
   ]
  },
  {
   "cell_type": "code",
   "execution_count": null,
   "metadata": {},
   "outputs": [],
   "source": [
    "folders_to_zip = [\n",
    "    'augmented_data.csv',               # Dados equilibrados (aumento de dados abaixo do percentil 25)\n",
    "    'extended_data.csv',                # Dados extendidos por meio de aumento do áudio e inversão (feito 2 e 3 vezes)\n",
    "    'short_audio_data.csv',             # Dados com ruídos curtos\n",
    "    'world_audio_data.csv',             # Dados com ruídos do mundo\n",
    "    'white_noise_data.csv',             # Dados com ruídos brandos\n",
    "    'total_data_labels.csv'             # Junção total dos dados tratados\n",
    "]\n",
    "\n",
    "zip_file_name = 'table_data.zip'"
   ]
  },
  {
   "cell_type": "code",
   "execution_count": null,
   "metadata": {},
   "outputs": [],
   "source": [
    "!zip -r {zip_file_name} {\" \".join(folders_to_zip)}"
   ]
  },
  {
   "cell_type": "code",
   "execution_count": null,
   "metadata": {},
   "outputs": [],
   "source": [
    "bucket = storage_client.get_bucket(bucket_name)\n",
    "blob = bucket.blob(zip_file_name)\n",
    "blob.upload_from_filename(zip_file_name)\n",
    "\n",
    "print(f'Arquivo {zip_file_name} enviado com sucesso para o bucket.')"
   ]
  },
  {
   "cell_type": "code",
   "execution_count": null,
   "metadata": {},
   "outputs": [],
   "source": []
  }
 ],
 "metadata": {
  "kernelspec": {
   "display_name": "Python 3",
   "language": "python",
   "name": "python3"
  },
  "language_info": {
   "codemirror_mode": {
    "name": "ipython",
    "version": 3
   },
   "file_extension": ".py",
   "mimetype": "text/x-python",
   "name": "python",
   "nbconvert_exporter": "python",
   "pygments_lexer": "ipython3",
   "version": "3.9.13"
  }
 },
 "nbformat": 4,
 "nbformat_minor": 2
}
