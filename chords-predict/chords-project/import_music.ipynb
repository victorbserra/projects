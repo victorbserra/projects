{
 "cells": [
  {
   "cell_type": "code",
   "execution_count": null,
   "metadata": {},
   "outputs": [],
   "source": [
    "import requests\n",
    "import time\n",
    "from bs4 import BeautifulSoup\n",
    "import pandas as pd\n",
    "from PIL import Image\n",
    "from io import BytesIO\n",
    "from urllib.parse import quote\n",
    "import re"
   ]
  },
  {
   "cell_type": "code",
   "execution_count": null,
   "metadata": {},
   "outputs": [],
   "source": [
    "def fetch_chords(key, num_pages):\n",
    "    df_list = []\n",
    "    key_encoded = quote(key)\n",
    "    for page in range(1, num_pages + 1):\n",
    "        base_url = f\"https://www.scales-chords.com/showchbykey.php?key={key_encoded}\"\n",
    "        url = f\"{base_url}&page={page}\"\n",
    "        response = requests.get(url)\n",
    "        soup = BeautifulSoup(response.text, 'html.parser')\n",
    "        table = soup.find('table', {'class': 'scaleinfotable'})\n",
    "        \n",
    "        # Ignore the header row\n",
    "        rows = table.find_all('tr')[1:]\n",
    "        \n",
    "        for row in rows:\n",
    "            cells = row.find_all('td')\n",
    "            if cells:\n",
    "                first_cell = cells[0]\n",
    "                \n",
    "                # Collecting the texts from 'b' elements\n",
    "                chord_elements = first_cell.find_all('b')\n",
    "                chord_symbol = chord_elements[0].text if chord_elements and len(chord_elements) > 0 else None\n",
    "                chord_name = chord_elements[1].text if chord_elements and len(chord_elements) > 1 else None\n",
    "                chord_family = chord_elements[2].text if chord_elements and len(chord_elements) > 2 else None\n",
    "\n",
    "                # Collecting the texts from 'a' elements with class 'chlink'\n",
    "                alternate_symbols_elements = first_cell.find_all('a', class_='chlink')\n",
    "                alternate_symbols = [elem.text for elem in alternate_symbols_elements] if alternate_symbols_elements else None\n",
    "\n",
    "                # Append to DataFrame\n",
    "                df_dict = {\n",
    "                    'tone': key,\n",
    "                    'chord': chord_symbol,\n",
    "                    'chord_name': chord_name,\n",
    "                    'chord_family': chord_family,\n",
    "                    'alternate_symbols': alternate_symbols\n",
    "                }\n",
    "            df_list.append(df_dict)\n",
    "    df = pd.DataFrame(df_list)                \n",
    "    return df"
   ]
  },
  {
   "cell_type": "code",
   "execution_count": null,
   "metadata": {},
   "outputs": [],
   "source": [
    "def call_scales_chords_api(params):\n",
    "    api_url = 'https://www.scales-chords.com/api/scapi.1.3.php'\n",
    "    \n",
    "    response = requests.post(api_url, data=params)\n",
    "    \n",
    "    if response.status_code == 200:\n",
    "        return response.text\n",
    "    else:\n",
    "        print(f\"Erro: {response.status_code}\")"
   ]
  },
  {
   "cell_type": "code",
   "execution_count": null,
   "metadata": {},
   "outputs": [],
   "source": [
    "def download_image(image_url, save_path):\n",
    "    response = requests.get(image_url)\n",
    "    if response.status_code == 200:\n",
    "        img_data = BytesIO(response.content)\n",
    "        img = Image.open(img_data)\n",
    "        img.save(save_path)\n",
    "        print(f\"Imagem salva em {save_path}\")\n",
    "    else:\n",
    "        print(f\"Erro ao baixar a imagem: {response.status_code}\")"
   ]
  },
  {
   "cell_type": "code",
   "execution_count": null,
   "metadata": {},
   "outputs": [],
   "source": [
    "def download_audio(audio_url, save_path):\n",
    "    response = requests.get(audio_url)\n",
    "    if response.status_code == 200:\n",
    "        with open(save_path, 'wb') as f:\n",
    "            f.write(response.content)\n",
    "        print(f\"Áudio salvo em {save_path}\")\n",
    "    else:\n",
    "        print(f\"Erro ao baixar o áudio: {response.status_code}\")"
   ]
  },
  {
   "cell_type": "code",
   "execution_count": null,
   "metadata": {},
   "outputs": [],
   "source": [
    "chords = ['C','C#','D','D#','Db','E','Eb','F','F#','G','G#','Gb','A','A#','Ab','B','Bb']\n",
    "pages  = [12,31,31,31,31,31,31,31,31,31,31,31,31,31,31,31,31]\n",
    "\n",
    "all_chords_df = pd.DataFrame()\n",
    "\n",
    "for chord, num_pages in zip(chords, pages):\n",
    "    df = fetch_chords(chord, num_pages)\n",
    "    all_chords_df = pd.concat([all_chords_df, df], ignore_index=True)"
   ]
  },
  {
   "cell_type": "code",
   "execution_count": null,
   "metadata": {},
   "outputs": [],
   "source": [
    "# all_chords_df.to_excel('chords.xlsx', index=False)"
   ]
  },
  {
   "cell_type": "code",
   "execution_count": null,
   "metadata": {},
   "outputs": [],
   "source": [
    "instruments = ['guitar', 'piano']\n",
    "\n",
    "for instrument in instruments:\n",
    "    for chord in all_chords_df['Chord'].dropna():\n",
    "        time.sleep(2)\n",
    "        params = {\n",
    "            'chord': chord,\n",
    "            'output': 'image',\n",
    "            'instrument': instrument\n",
    "        }\n",
    "        response_text = call_scales_chords_api(params)\n",
    "    \n",
    "        soup = BeautifulSoup(response_text, 'html.parser')\n",
    "        link_image = soup.find('img')['src']\n",
    "        \n",
    "        safe_chord_name = chord.replace('/', '_').replace('\\\\', '_').replace('#', 'sharp')\n",
    "        save_path = f\"C:/Users/victor.serra/OneDrive - americanas s.a/Área de Trabalho/python/acordes/img/{instrument}_{safe_chord_name}.jpg\"\n",
    "        download_image(link_image, save_path)"
   ]
  },
  {
   "cell_type": "code",
   "execution_count": null,
   "metadata": {},
   "outputs": [],
   "source": [
    "instruments = ['guitar', 'piano']\n",
    "\n",
    "for instrument in instruments:\n",
    "    for chord in all_chords_df['Chord'].dropna():\n",
    "        time.sleep(2)\n",
    "        params = {\n",
    "            'chord': chord,\n",
    "            'output': 'sound',\n",
    "            'instrument': instrument\n",
    "        }\n",
    "\n",
    "        response_text = call_scales_chords_api(params)\n",
    "        \n",
    "        soup = BeautifulSoup(response_text, 'html.parser')\n",
    "        link_audio = soup.find_all('source')\n",
    "        audio_url = link_audio[1]['src']\n",
    "            \n",
    "        safe_chord_name = chord.replace('/', '_').replace('\\\\', '_').replace('#', 'sharp')\n",
    "        save_path = f\"C:/Users/victor.serra/OneDrive - americanas s.a/Área de Trabalho/python/acordes/audio/{instrument}_{safe_chord_name}.mp3\"\n",
    "        download_audio(audio_url, save_path)"
   ]
  },
  {
   "cell_type": "code",
   "execution_count": null,
   "metadata": {},
   "outputs": [],
   "source": [
    "params = {\n",
    "    'chord': 'C',\n",
    "    'output': 'sound',\n",
    "    'instrument': 'guitar'\n",
    "}\n",
    "\n",
    "soup = BeautifulSoup(call_scales_chords_api(params), 'html.parser')\n",
    "link_audio = soup.find_all('source')\n",
    "audio_url = link_audio[1]['src']\n",
    "save_path = f\"C:/Users/victor.serra/OneDrive - americanas s.a/Área de Trabalho/python/acordes/audio/{params['instrument']}_{params['chord']}.mp3\"\n",
    "download_audio(audio_url, save_path)"
   ]
  },
  {
   "cell_type": "code",
   "execution_count": null,
   "metadata": {},
   "outputs": [],
   "source": [
    "all_chords_df = pd.read_excel('chords.xlsx')\n",
    "all_chords_df"
   ]
  },
  {
   "cell_type": "code",
   "execution_count": null,
   "metadata": {},
   "outputs": [],
   "source": [
    "tunning_guitar = [\n",
    "    {'tunning_id': \"\",'guitar_string': 'EADGBE','tunning_description': \"standard\"},\n",
    "    {'tunning_id': \"?tuning=DADGBE\",'guitar_string': 'DADGBE', 'tunning_description': \"Drop D\"},\n",
    "    {'tunning_id': \"?tuning=DsGsCsFsAsDs\",'guitar_string': 'DsGsCsFsAsDs', 'tunning_description': \"Half Step Down\"},\n",
    "    {'tunning_id': \"?tuning=DGCFAD\",'guitar_string': 'DGCFAD', 'tunning_description': \"Full Step Down\"},\n",
    "    #{'tunning_id': \"?tuning=DADFsAD\",'guitar_string': 'DADFsAD', 'tunning_description': \"Open D\"},\n",
    "    #{'tunning_id': \"?tuning=DGDGBD\",'guitar_string': 'DGDGBD', 'tunning_description': \"Open G\"},\n",
    "    #{'tunning_id': \"?tuning=EAEACsE\",'guitar_string': 'EAEACsE', 'tunning_description': \"Open A\"},\n",
    "    #{'tunning_id': \"?tuning=CEGCEG\",'guitar_string': 'CEGCEG', 'tunning_description': \"Open C\"},\n",
    "    #{'tunning_id': \"?tuning=BFsBFsBDs\",'guitar_string': 'BFsBFsBDs', 'tunning_description': \"Open B\"},\n",
    "    #{'tunning_id': \"?tuning=EBEGsBE\",'guitar_string': 'EBEGsBE', 'tunning_description': \"Open E\"},\n",
    "    #{'tunning_id': \"?tuning=CFCFAF\",'guitar_string': 'CFCFAF', 'tunning_description': \"Open F\"},\n",
    "    #{'tunning_id': \"?tuning=CGDAEB\",'guitar_string': 'CGDAEB', 'tunning_description': \"All fifths\"},\n",
    "    #{'tunning_id': \"?tuning=CGDAEG\",'guitar_string': 'CGDAEG', 'tunning_description': \"New standard\"},\n",
    "    #{'tunning_id': \"?tuning=EADGCF\",'guitar_string': 'EADGCF', 'tunning_description': \"All fourths\"},\n",
    "    #{'tunning_id': \"?tuning=EGsCEGsC\",'guitar_string': 'EGsCEGsC', 'tunning_description': \"Major thirds on E\"}\n",
    "]"
   ]
  },
  {
   "cell_type": "code",
   "execution_count": null,
   "metadata": {},
   "outputs": [],
   "source": [
    "audio_list = []\n",
    "\n",
    "file_exists = False\n",
    "\n",
    "for index, chord in enumerate(all_chords_df['Chord'].dropna()):\n",
    "    key = chord\n",
    "    key_encoded = quote(key)\n",
    "    key_encoded\n",
    "\n",
    "    for tunning in tunning_guitar:\n",
    "        base_url = f\"https://www.scales-chords.com/chord/guitar/{key_encoded}\"\n",
    "        url = f\"{base_url}{tunning['tunning_id']}\"\n",
    "        response = requests.get(url)\n",
    "        soup = BeautifulSoup(response.text, 'html.parser')\n",
    "\n",
    "        audio = soup.find_all('audio')\n",
    "        for a in audio:\n",
    "            audio_id = a.get('id')\n",
    "            clean_audio_id = re.sub(r'music|fast|strum|slow|mp3', '',audio_id)\n",
    "            clean_audio_id_name = re.sub(r'music|mp3', '',audio_id)\n",
    "            audio_url = a.find('source')['src']\n",
    "            download_audio(f'https://www.scales-chords.com{audio_url}', f\"C:/Users/victor.serra/OneDrive - americanas s.a/Área de Trabalho/python/chords/variation_chord_audio/t_{tunning['guitar_string']}_{clean_audio_id_name}.mp3\")\n",
    "            audio_dict = {\n",
    "                'chord': key,\n",
    "                'audio_id': audio_id,\n",
    "                'clean_audio_id': clean_audio_id,\n",
    "                'audio_url': audio_url,\n",
    "                'tunning_description': tunning['tunning_description'],\n",
    "                'guitar_string': tunning['guitar_string'],\n",
    "                # get the index from all\n",
    "                'id_chord': index\n",
    "            }\n",
    "            audio_list.append(audio_dict)\n",
    "            temp = pd.DataFrame(audio_dict, index=[0])\n",
    "            temp.to_csv('audio_list.csv', mode='a', header=not file_exists, index=False)\n",
    "            file_exists = True\n"
   ]
  },
  {
   "cell_type": "code",
   "execution_count": null,
   "metadata": {},
   "outputs": [],
   "source": [
    "pd.DataFrame(audio_list)"
   ]
  },
  {
   "cell_type": "code",
   "execution_count": null,
   "metadata": {},
   "outputs": [],
   "source": [
    "image_list = []\n",
    "for chord in all_chords_df['Chord'].dropna():\n",
    "    key = chord\n",
    "    key_encoded = quote(key)\n",
    "    key_encoded\n",
    "\n",
    "    for tunning in tunning_guitar:\n",
    "        time.sleep(1)\n",
    "        base_url = f\"https://www.scales-chords.com/chord/guitar/{key_encoded}\"\n",
    "        url = f\"{base_url}{tunning['tunning_id']}\"\n",
    "        response = requests.get(url)\n",
    "        soup = BeautifulSoup(response.text, 'html.parser')\n",
    "\n",
    "        image = soup.find_all('img')\n",
    "\n",
    "\n",
    "        for i in image:\n",
    "            alt = i.get('alt')\n",
    "            image_url = i['src']\n",
    "            file_name = image_url.split(\"/\",2)[-1]\n",
    "            image_id = file_name.replace('-','').replace('.png', '')\n",
    "            try:\n",
    "                frets = alt.split('frets:')[1].strip().replace(\" \", \"\")\n",
    "            except:\n",
    "                frets = None\n",
    "            image_dict = {\n",
    "                'chord': key,\n",
    "                'image_id': image_id,\n",
    "                'image_link': image_url,\n",
    "                'frets': frets\n",
    "            }\n",
    "            image_list.append(image_dict)\n",
    "            download_image(f'https://www.scales-chords.com{image_url}', f\"C:/Users/victor.serra/OneDrive - americanas s.a/Área de Trabalho/python/chords/variation_chord_img/t_{tunning['guitar_string']}_{image_id}.png\")\n",
    "\n",
    "df_image_list = pd.DataFrame(image_list)"
   ]
  },
  {
   "cell_type": "code",
   "execution_count": null,
   "metadata": {},
   "outputs": [],
   "source": []
  },
  {
   "cell_type": "code",
   "execution_count": null,
   "metadata": {},
   "outputs": [],
   "source": []
  },
  {
   "cell_type": "code",
   "execution_count": null,
   "metadata": {},
   "outputs": [],
   "source": []
  }
 ],
 "metadata": {
  "kernelspec": {
   "display_name": "Python 3",
   "language": "python",
   "name": "python3"
  },
  "language_info": {
   "codemirror_mode": {
    "name": "ipython",
    "version": 3
   },
   "file_extension": ".py",
   "mimetype": "text/x-python",
   "name": "python",
   "nbconvert_exporter": "python",
   "pygments_lexer": "ipython3",
   "version": "3.11.4"
  }
 },
 "nbformat": 4,
 "nbformat_minor": 2
}
