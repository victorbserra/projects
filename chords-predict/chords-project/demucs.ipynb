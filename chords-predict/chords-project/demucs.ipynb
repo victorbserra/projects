{
 "cells": [
  {
   "cell_type": "code",
   "execution_count": 8,
   "metadata": {},
   "outputs": [],
   "source": [
    "import torch\n",
    "import torchaudio\n",
    "from demucs import pretrained\n",
    "from demucs.apply import apply_model"
   ]
  },
  {
   "cell_type": "code",
   "execution_count": 9,
   "metadata": {},
   "outputs": [
    {
     "name": "stderr",
     "output_type": "stream",
     "text": [
      "Downloading: \"https://dl.fbaipublicfiles.com/demucs/mdx_final/0d19c1c6-0f06f20e.th\" to C:\\Users\\victor.serra/.cache\\torch\\hub\\checkpoints\\0d19c1c6-0f06f20e.th\n",
      "100%|██████████| 170M/170M [00:03<00:00, 48.8MB/s] \n",
      "Downloading: \"https://dl.fbaipublicfiles.com/demucs/mdx_final/7ecf8ec1-70f50cc9.th\" to C:\\Users\\victor.serra/.cache\\torch\\hub\\checkpoints\\7ecf8ec1-70f50cc9.th\n",
      "100%|██████████| 170M/170M [00:09<00:00, 19.5MB/s] \n",
      "Downloading: \"https://dl.fbaipublicfiles.com/demucs/mdx_final/c511e2ab-fe698775.th\" to C:\\Users\\victor.serra/.cache\\torch\\hub\\checkpoints\\c511e2ab-fe698775.th\n",
      "100%|██████████| 160M/160M [00:05<00:00, 33.0MB/s] \n",
      "Downloading: \"https://dl.fbaipublicfiles.com/demucs/mdx_final/7d865c68-3d5dd56b.th\" to C:\\Users\\victor.serra/.cache\\torch\\hub\\checkpoints\\7d865c68-3d5dd56b.th\n",
      "100%|██████████| 160M/160M [00:08<00:00, 19.6MB/s] \n"
     ]
    }
   ],
   "source": [
    "model = pretrained.get_model('mdx')"
   ]
  },
  {
   "cell_type": "code",
   "execution_count": 10,
   "metadata": {},
   "outputs": [],
   "source": [
    "file_path = 'teste.mp3'\n",
    "y, sr = torchaudio.load(file_path)"
   ]
  },
  {
   "cell_type": "code",
   "execution_count": 11,
   "metadata": {},
   "outputs": [
    {
     "ename": "ValueError",
     "evalue": "not enough values to unpack (expected 3, got 2)",
     "output_type": "error",
     "traceback": [
      "\u001b[1;31m---------------------------------------------------------------------------\u001b[0m",
      "\u001b[1;31mValueError\u001b[0m                                Traceback (most recent call last)",
      "\u001b[1;32mc:\\Users\\victor.serra\\OneDrive - americanas s.a\\Área de Trabalho\\python\\projeto_musical\\demucs.ipynb Cell 4\u001b[0m line \u001b[0;36m1\n\u001b[1;32m----> <a href='vscode-notebook-cell:/c%3A/Users/victor.serra/OneDrive%20-%20americanas%20s.a/%C3%81rea%20de%20Trabalho/python/projeto_musical/demucs.ipynb#W1sZmlsZQ%3D%3D?line=0'>1</a>\u001b[0m out \u001b[39m=\u001b[39m apply_model(model, y)[\u001b[39m0\u001b[39m]\n",
      "File \u001b[1;32mc:\\Users\\victor.serra\\AppData\\Local\\Programs\\Python\\Python39\\lib\\site-packages\\demucs\\apply.py:221\u001b[0m, in \u001b[0;36mapply_model\u001b[1;34m(model, mix, shifts, split, overlap, transition_power, progress, device, num_workers, segment, pool, lock, callback, callback_arg)\u001b[0m\n\u001b[0;32m    218\u001b[0m original_model_device \u001b[39m=\u001b[39m \u001b[39mnext\u001b[39m(\u001b[39miter\u001b[39m(sub_model\u001b[39m.\u001b[39mparameters()))\u001b[39m.\u001b[39mdevice\n\u001b[0;32m    219\u001b[0m sub_model\u001b[39m.\u001b[39mto(device)\n\u001b[1;32m--> 221\u001b[0m res \u001b[39m=\u001b[39m apply_model(sub_model, mix, \u001b[39m*\u001b[39m\u001b[39m*\u001b[39mkwargs, callback_arg\u001b[39m=\u001b[39mcallback_arg)\n\u001b[0;32m    222\u001b[0m \u001b[39mif\u001b[39;00m res \u001b[39mis\u001b[39;00m \u001b[39mNone\u001b[39;00m:\n\u001b[0;32m    223\u001b[0m     \u001b[39mreturn\u001b[39;00m res\n",
      "File \u001b[1;32mc:\\Users\\victor.serra\\AppData\\Local\\Programs\\Python\\Python39\\lib\\site-packages\\demucs\\apply.py:243\u001b[0m, in \u001b[0;36mapply_model\u001b[1;34m(model, mix, shifts, split, overlap, transition_power, progress, device, num_workers, segment, pool, lock, callback, callback_arg)\u001b[0m\n\u001b[0;32m    241\u001b[0m model\u001b[39m.\u001b[39meval()\n\u001b[0;32m    242\u001b[0m \u001b[39massert\u001b[39;00m transition_power \u001b[39m>\u001b[39m\u001b[39m=\u001b[39m \u001b[39m1\u001b[39m, \u001b[39m\"\u001b[39m\u001b[39mtransition_power < 1 leads to weird behavior.\u001b[39m\u001b[39m\"\u001b[39m\n\u001b[1;32m--> 243\u001b[0m batch, channels, length \u001b[39m=\u001b[39m mix\u001b[39m.\u001b[39mshape\n\u001b[0;32m    244\u001b[0m \u001b[39mif\u001b[39;00m shifts:\n\u001b[0;32m    245\u001b[0m     kwargs[\u001b[39m'\u001b[39m\u001b[39mshifts\u001b[39m\u001b[39m'\u001b[39m] \u001b[39m=\u001b[39m \u001b[39m0\u001b[39m\n",
      "\u001b[1;31mValueError\u001b[0m: not enough values to unpack (expected 3, got 2)"
     ]
    }
   ],
   "source": [
    "out = apply_model(model, y)[0]"
   ]
  },
  {
   "cell_type": "code",
   "execution_count": null,
   "metadata": {},
   "outputs": [],
   "source": []
  }
 ],
 "metadata": {
  "kernelspec": {
   "display_name": "Python 3",
   "language": "python",
   "name": "python3"
  },
  "language_info": {
   "codemirror_mode": {
    "name": "ipython",
    "version": 3
   },
   "file_extension": ".py",
   "mimetype": "text/x-python",
   "name": "python",
   "nbconvert_exporter": "python",
   "pygments_lexer": "ipython3",
   "version": "3.9.13"
  }
 },
 "nbformat": 4,
 "nbformat_minor": 2
}
